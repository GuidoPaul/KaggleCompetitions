{
 "cells": [
  {
   "cell_type": "markdown",
   "metadata": {},
   "source": [
    "# Load and check data"
   ]
  },
  {
   "cell_type": "code",
   "execution_count": 1,
   "metadata": {},
   "outputs": [
    {
     "name": "stderr",
     "output_type": "stream",
     "text": [
      "/home/guido/.conda/envs/dl/lib/python3.6/site-packages/sklearn/cross_validation.py:41: DeprecationWarning: This module was deprecated in version 0.18 in favor of the model_selection module into which all the refactored classes and functions are moved. Also note that the interface of the new CV iterators are different from that of this module. This module will be removed in 0.20.\n",
      "  \"This module will be removed in 0.20.\", DeprecationWarning)\n"
     ]
    }
   ],
   "source": [
    "import time\n",
    "import numpy as np\n",
    "import pandas as pd\n",
    "\n",
    "import seaborn as sns\n",
    "import matplotlib.pyplot as plt\n",
    "%matplotlib inline\n",
    "sns.set_style(\"whitegrid\")\n",
    "\n",
    "import nltk\n",
    "\n",
    "from sklearn import metrics, model_selection, naive_bayes\n",
    "from sklearn.decomposition import TruncatedSVD, LatentDirichletAllocation\n",
    "from sklearn.feature_extraction.text import TfidfVectorizer, CountVectorizer\n",
    "from sklearn.pipeline import make_pipeline\n",
    "from sklearn.preprocessing import Normalizer\n",
    "\n",
    "import xgboost as xgb"
   ]
  },
  {
   "cell_type": "code",
   "execution_count": 2,
   "metadata": {},
   "outputs": [
    {
     "data": {
      "text/html": [
       "<div>\n",
       "<style scoped>\n",
       "    .dataframe tbody tr th:only-of-type {\n",
       "        vertical-align: middle;\n",
       "    }\n",
       "\n",
       "    .dataframe tbody tr th {\n",
       "        vertical-align: top;\n",
       "    }\n",
       "\n",
       "    .dataframe thead th {\n",
       "        text-align: right;\n",
       "    }\n",
       "</style>\n",
       "<table border=\"1\" class=\"dataframe\">\n",
       "  <thead>\n",
       "    <tr style=\"text-align: right;\">\n",
       "      <th></th>\n",
       "      <th>id</th>\n",
       "      <th>text</th>\n",
       "      <th>author</th>\n",
       "    </tr>\n",
       "  </thead>\n",
       "  <tbody>\n",
       "    <tr>\n",
       "      <th>0</th>\n",
       "      <td>id26305</td>\n",
       "      <td>This process, however, afforded me no means of...</td>\n",
       "      <td>EAP</td>\n",
       "    </tr>\n",
       "    <tr>\n",
       "      <th>1</th>\n",
       "      <td>id17569</td>\n",
       "      <td>It never once occurred to me that the fumbling...</td>\n",
       "      <td>HPL</td>\n",
       "    </tr>\n",
       "    <tr>\n",
       "      <th>2</th>\n",
       "      <td>id11008</td>\n",
       "      <td>In his left hand was a gold snuff box, from wh...</td>\n",
       "      <td>EAP</td>\n",
       "    </tr>\n",
       "    <tr>\n",
       "      <th>3</th>\n",
       "      <td>id27763</td>\n",
       "      <td>How lovely is spring As we looked from Windsor...</td>\n",
       "      <td>MWS</td>\n",
       "    </tr>\n",
       "    <tr>\n",
       "      <th>4</th>\n",
       "      <td>id12958</td>\n",
       "      <td>Finding nothing else, not even gold, the Super...</td>\n",
       "      <td>HPL</td>\n",
       "    </tr>\n",
       "  </tbody>\n",
       "</table>\n",
       "</div>"
      ],
      "text/plain": [
       "        id                                               text author\n",
       "0  id26305  This process, however, afforded me no means of...    EAP\n",
       "1  id17569  It never once occurred to me that the fumbling...    HPL\n",
       "2  id11008  In his left hand was a gold snuff box, from wh...    EAP\n",
       "3  id27763  How lovely is spring As we looked from Windsor...    MWS\n",
       "4  id12958  Finding nothing else, not even gold, the Super...    HPL"
      ]
     },
     "execution_count": 2,
     "metadata": {},
     "output_type": "execute_result"
    }
   ],
   "source": [
    "# Load in the train and test datasets\n",
    "train = pd.read_csv('../input/train.csv')\n",
    "test = pd.read_csv('../input/test.csv')\n",
    "\n",
    "full_data = [train, test]\n",
    "\n",
    "train.head()"
   ]
  },
  {
   "cell_type": "code",
   "execution_count": 3,
   "metadata": {},
   "outputs": [
    {
     "name": "stdout",
     "output_type": "stream",
     "text": [
      "Number of rows in train dataset 19579\n",
      "Number of rows in test dataset 8392\n",
      "No duplicates in train data\n",
      "No duplicates in test data\n",
      "Unique author is data ['EAP' 'HPL' 'MWS']\n",
      "Number of nulls in the train is 0 and text is 0\n"
     ]
    }
   ],
   "source": [
    "# Explore the dataset \n",
    "print(\"Number of rows in train dataset {}\".format(train.shape[0]))\n",
    "print(\"Number of rows in test dataset {}\".format(test.shape[0]))\n",
    "print(\"No duplicates in train data\") if train.shape[0] == train.text.unique().__len__() else print(\"Oops\")\n",
    "print(\"No duplicates in test data\") if test.shape[0] == test.text.unique().__len__() else print(\"Oops\")\n",
    "print(\"Unique author is data {}\".format(train.author.unique()))\n",
    "print(\"Number of nulls in the train is {} and text is {}\".format(train.isnull().sum().sum(), test.isnull().sum().sum()))"
   ]
  },
  {
   "cell_type": "code",
   "execution_count": 4,
   "metadata": {},
   "outputs": [
    {
     "data": {
      "text/plain": [
       "<matplotlib.axes._subplots.AxesSubplot at 0x7f1844bec7b8>"
      ]
     },
     "execution_count": 4,
     "metadata": {},
     "output_type": "execute_result"
    },
    {
     "data": {
      "image/png": "[encoded data removed]",
      "text/plain": [
       "<matplotlib.figure.Figure at 0x7f1844bec6a0>"
      ]
     },
     "metadata": {},
     "output_type": "display_data"
    }
   ],
   "source": [
    "z = {'EAP': 'Edgar Allen Poe', 'MWS': 'Mary Shelley', 'HPL': 'HP Lovecraft'}\n",
    "plt.figure(figsize=(8, 6))\n",
    "plt.title('Target variable distribution', fontsize=16)\n",
    "plt.ylabel('Number of Occurrences', fontsize=16)\n",
    "plt.xlabel('Author Name', fontsize=16)\n",
    "sns.barplot(x=train.author.map(z).unique(), y=train.author.value_counts().values)"
   ]
  },
  {
   "cell_type": "markdown",
   "metadata": {},
   "source": [
    "# Wordclouds"
   ]
  },
  {
   "cell_type": "markdown",
   "metadata": {},
   "source": [
    "# Natural Language Processing"
   ]
  },
  {
   "cell_type": "markdown",
   "metadata": {},
   "source": [
    "## Tokenization"
   ]
  },
  {
   "cell_type": "code",
   "execution_count": 5,
   "metadata": {},
   "outputs": [
    {
     "name": "stdout",
     "output_type": "stream",
     "text": [
      "This process, however, afforded me no means of ascertaining the dimensions of my dungeon; as I might make its circuit, and return to the point whence I set out, without being aware of the fact; so perfectly uniform seemed the wall.\n",
      "==========================================================================================\n",
      "['This', 'process,', 'however,', 'afforded', 'me', 'no', 'means', 'of', 'ascertaining', 'the', 'dimensions', 'of', 'my', 'dungeon;', 'as', 'I', 'might', 'make', 'its', 'circuit,', 'and', 'return', 'to', 'the', 'point', 'whence', 'I', 'set', 'out,', 'without', 'being', 'aware', 'of', 'the', 'fact;', 'so', 'perfectly', 'uniform', 'seemed', 'the', 'wall.']\n"
     ]
    }
   ],
   "source": [
    "# Storing the first text element as a string\n",
    "first_text = train.text.values[0]\n",
    "print(first_text)\n",
    "print(\"=\"*90)\n",
    "print(first_text.split(\" \"))"
   ]
  },
  {
   "cell_type": "code",
   "execution_count": 6,
   "metadata": {},
   "outputs": [
    {
     "name": "stdout",
     "output_type": "stream",
     "text": [
      "['This', 'process', ',', 'however', ',', 'afforded', 'me', 'no', 'means', 'of', 'ascertaining', 'the', 'dimensions', 'of', 'my', 'dungeon', ';', 'as', 'I', 'might', 'make', 'its', 'circuit', ',', 'and', 'return', 'to', 'the', 'point', 'whence', 'I', 'set', 'out', ',', 'without', 'being', 'aware', 'of', 'the', 'fact', ';', 'so', 'perfectly', 'uniform', 'seemed', 'the', 'wall', '.']\n"
     ]
    }
   ],
   "source": [
    "first_text_list = nltk.word_tokenize(first_text)\n",
    "print(first_text_list)"
   ]
  },
  {
   "cell_type": "markdown",
   "metadata": {},
   "source": [
    "## Stopword Removal"
   ]
  },
  {
   "cell_type": "code",
   "execution_count": 7,
   "metadata": {},
   "outputs": [
    {
     "data": {
      "text/plain": [
       "153"
      ]
     },
     "execution_count": 7,
     "metadata": {},
     "output_type": "execute_result"
    }
   ],
   "source": [
    "stopwords = nltk.corpus.stopwords.words('english')\n",
    "len(stopwords)"
   ]
  },
  {
   "cell_type": "code",
   "execution_count": 8,
   "metadata": {
    "scrolled": true
   },
   "outputs": [
    {
     "name": "stdout",
     "output_type": "stream",
     "text": [
      "['process', ',', 'however', ',', 'afforded', 'means', 'ascertaining', 'dimensions', 'dungeon', ';', 'might', 'make', 'circuit', ',', 'return', 'point', 'whence', 'set', ',', 'without', 'aware', 'fact', ';', 'perfectly', 'uniform', 'seemed', 'wall', '.']\n",
      "==========================================================================================\n",
      "Length of original list: 48 words\n",
      "Length of list after stopwords removal: 28 words\n"
     ]
    }
   ],
   "source": [
    "first_text_list_cleaned = [\n",
    "    word for word in first_text_list if word.lower() not in stopwords\n",
    "]\n",
    "print(first_text_list_cleaned)\n",
    "print(\"=\" * 90)\n",
    "print(\"Length of original list: {} words\\n\"\n",
    "      \"Length of list after stopwords removal: {} words\".format(\n",
    "          len(first_text_list), len(first_text_list_cleaned)))"
   ]
  },
  {
   "cell_type": "markdown",
   "metadata": {},
   "source": [
    "## Stemming and Lemmatization"
   ]
  },
  {
   "cell_type": "code",
   "execution_count": 9,
   "metadata": {},
   "outputs": [
    {
     "name": "stdout",
     "output_type": "stream",
     "text": [
      "The stemmed form of running is: run\n",
      "The stemmed form of runs is: run\n",
      "The stemmed form of run is: run\n",
      "The stemmed form of leaves is: leav\n"
     ]
    }
   ],
   "source": [
    "stemmer = nltk.stem.PorterStemmer()\n",
    "print(\"The stemmed form of running is: {}\".format(stemmer.stem(\"running\")))\n",
    "print(\"The stemmed form of runs is: {}\".format(stemmer.stem(\"runs\")))\n",
    "print(\"The stemmed form of run is: {}\".format(stemmer.stem(\"run\")))\n",
    "\n",
    "print(\"The stemmed form of leaves is: {}\".format(stemmer.stem(\"leaves\")))"
   ]
  },
  {
   "cell_type": "code",
   "execution_count": 10,
   "metadata": {
    "scrolled": true
   },
   "outputs": [
    {
     "name": "stdout",
     "output_type": "stream",
     "text": [
      "The lemmatized form of leaves is: leaf\n"
     ]
    }
   ],
   "source": [
    "lemm =  nltk.stem.WordNetLemmatizer()\n",
    "print(\"The lemmatized form of leaves is: {}\".format(lemm.lemmatize(\"leaves\")))"
   ]
  },
  {
   "cell_type": "markdown",
   "metadata": {},
   "source": [
    "## Vectorizing Raw Text"
   ]
  },
  {
   "cell_type": "code",
   "execution_count": 11,
   "metadata": {},
   "outputs": [
    {
     "name": "stdout",
     "output_type": "stream",
     "text": [
      "The features are:\n",
      " ['burgers', 'eat', 'fries', 'love', 'to']\n",
      "\n",
      "The vectorized array looks like:\n",
      " [[1 1 0 1 1]\n",
      " [0 1 1 1 1]]\n"
     ]
    }
   ],
   "source": [
    "# Defining our sentence\n",
    "sentence = [\"I love to eat Burgers\", \"I love to eat Fries\"]\n",
    "# try CountVectorizer\n",
    "vectorizer = CountVectorizer(min_df=0)\n",
    "sentence_transform = vectorizer.fit_transform(sentence)\n",
    "\n",
    "print(\"The features are:\\n {}\".format(vectorizer.get_feature_names()))\n",
    "print(\"\\nThe vectorized array looks like:\\n {}\".format(\n",
    "    sentence_transform.toarray()))"
   ]
  },
  {
   "cell_type": "code",
   "execution_count": 12,
   "metadata": {
    "scrolled": true
   },
   "outputs": [
    {
     "name": "stdout",
     "output_type": "stream",
     "text": [
      "The features are:\n",
      " ['burgers', 'eat', 'fries', 'love', 'to']\n",
      "\n",
      "The vectorized array looks like:\n",
      " [[ 0.63009934  0.44832087  0.          0.44832087  0.44832087]\n",
      " [ 0.          0.44832087  0.63009934  0.44832087  0.44832087]]\n"
     ]
    }
   ],
   "source": [
    "sentence = [\"I love to eat Burgers\", \"I love to eat Fries\"]\n",
    "# try  TfidfVectorizer\n",
    "vectorizer = TfidfVectorizer(min_df=0)\n",
    "sentence_transform = vectorizer.fit_transform(sentence)\n",
    "\n",
    "print(\"The features are:\\n {}\".format(vectorizer.get_feature_names()))\n",
    "print(\"\\nThe vectorized array looks like:\\n {}\".format(\n",
    "    sentence_transform.toarray()))"
   ]
  },
  {
   "cell_type": "markdown",
   "metadata": {},
   "source": [
    "# Fuctions"
   ]
  },
  {
   "cell_type": "markdown",
   "metadata": {},
   "source": [
    "## Confusion Matrix"
   ]
  },
  {
   "cell_type": "code",
   "execution_count": 13,
   "metadata": {},
   "outputs": [],
   "source": [
    "import itertools\n",
    "from sklearn.metrics import confusion_matrix\n",
    "\n",
    "\n",
    "def plot_confusion_matrix(cm,\n",
    "                          classes,\n",
    "                          normalize=False,\n",
    "                          title='Confusion matrix',\n",
    "                          cmap=plt.cm.Blues):\n",
    "    \"\"\"\n",
    "    This function prints and plots the confusion matrix.\n",
    "    Normalization can be applied by setting `normalize=True`.\n",
    "    \"\"\"\n",
    "    if normalize:\n",
    "        cm = cm.astype('float') / cm.sum(axis=1)[:, np.newaxis]\n",
    "        print(\"Normalized confusion matrix\")\n",
    "    else:\n",
    "        print('Confusion matrix, without normalization')\n",
    "\n",
    "    print(cm)\n",
    "\n",
    "    plt.imshow(cm, interpolation='nearest', cmap=cmap)\n",
    "    plt.title(title)\n",
    "    plt.colorbar()\n",
    "    tick_marks = np.arange(len(classes))\n",
    "    plt.xticks(tick_marks, classes, rotation=45)\n",
    "    plt.yticks(tick_marks, classes)\n",
    "\n",
    "    fmt = '.2f' if normalize else 'd'\n",
    "    thresh = cm.max() / 2.\n",
    "    for i, j in itertools.product(range(cm.shape[0]), range(cm.shape[1])):\n",
    "        plt.text(\n",
    "            j,\n",
    "            i,\n",
    "            format(cm[i, j], fmt),\n",
    "            horizontalalignment=\"center\",\n",
    "            color=\"white\" if cm[i, j] > thresh else \"black\")\n",
    "\n",
    "    plt.tight_layout()\n",
    "    plt.ylabel('True label')\n",
    "    plt.xlabel('Predicted label')"
   ]
  },
  {
   "cell_type": "markdown",
   "metadata": {},
   "source": [
    "## Multinomial Naive Bayes"
   ]
  },
  {
   "cell_type": "code",
   "execution_count": 14,
   "metadata": {},
   "outputs": [],
   "source": [
    "def runMNB(x_train, y_train, x_val, x_test):\n",
    "    model = naive_bayes.MultinomialNB()\n",
    "    model.fit(x_train, y_train)\n",
    "    pred_y_val = model.predict_proba(x_val)\n",
    "    pred_y_test = model.predict_proba(x_test)\n",
    "    return pred_y_val, pred_y_test, model"
   ]
  },
  {
   "cell_type": "markdown",
   "metadata": {},
   "source": [
    "## XGBoost"
   ]
  },
  {
   "cell_type": "code",
   "execution_count": 15,
   "metadata": {
    "scrolled": false
   },
   "outputs": [],
   "source": [
    "xgb_param = {\n",
    "    'min_child_weight': 1,\n",
    "    'eta': 0.1,\n",
    "    'colsample_bytree': 0.7,\n",
    "    'max_depth': 3,\n",
    "    'subsample': 0.8,\n",
    "    'lambda': 2.0,\n",
    "    'nthread': -1,\n",
    "    'silent': 1,\n",
    "    'eval_metric': \"mlogloss\",\n",
    "    'objective': 'multi:softprob',\n",
    "    'num_class': 3\n",
    "}\n",
    "\n",
    "\n",
    "def runXGB(x_train, y_train, x_val, y_val, x_test):\n",
    "    dtrain = xgb.DMatrix(x_train, label=y_train)\n",
    "    dval = xgb.DMatrix(x_val, y_val)\n",
    "    dtest = xgb.DMatrix(x_test)\n",
    "    watchlist = [(dtrain, 'train'), (dval, 'val')]\n",
    "\n",
    "    model = xgb.train(\n",
    "        xgb_param,\n",
    "        dtrain,\n",
    "        2000,\n",
    "        watchlist,\n",
    "        early_stopping_rounds=50,\n",
    "        maximize=False,\n",
    "        verbose_eval=40)\n",
    "    pred_y_val = model.predict(dval, ntree_limit=model.best_ntree_limit)\n",
    "    pred_y_test = model.predict(dtest, ntree_limit=model.best_ntree_limit)\n",
    "    return pred_y_val, pred_y_test, model"
   ]
  },
  {
   "cell_type": "markdown",
   "metadata": {},
   "source": [
    "# Feature Engineering"
   ]
  },
  {
   "cell_type": "markdown",
   "metadata": {},
   "source": [
    "## -- Text based features --"
   ]
  },
  {
   "cell_type": "code",
   "execution_count": 16,
   "metadata": {},
   "outputs": [],
   "source": [
    "import string\n",
    "\n",
    "\n",
    "def word_count(raw):\n",
    "    return len(raw['text'].split())\n",
    "\n",
    "\n",
    "def char_count(raw):\n",
    "    return len(raw['text'])\n",
    "\n",
    "\n",
    "def unique_word_count(raw):\n",
    "    text = raw['text'].lower()\n",
    "    tokenizer = nltk.tokenize.RegexpTokenizer(r'\\w+')\n",
    "    text_list = tokenizer.tokenize(text)\n",
    "\n",
    "    return len(list(set(text_list)))\n",
    "\n",
    "\n",
    "def stopwords_count(raw):\n",
    "    text = raw['text'].lower()\n",
    "    tokenizer = nltk.tokenize.RegexpTokenizer(r'\\w+')\n",
    "    text_list = tokenizer.tokenize(text)\n",
    "\n",
    "    stopwords = nltk.corpus.stopwords.words('english')\n",
    "\n",
    "    return len([w for w in text_list if w in stopwords])\n",
    "\n",
    "\n",
    "def punctuations_count(raw):\n",
    "    text = raw['text'].lower()\n",
    "    text_list = nltk.word_tokenize(text)\n",
    "\n",
    "    return len([w for w in text_list if w in string.punctuation])\n",
    "\n",
    "\n",
    "def word_upper_count(raw):\n",
    "    text = raw['text']\n",
    "    tokenizer = nltk.tokenize.RegexpTokenizer(r'\\w+')\n",
    "    text_list = tokenizer.tokenize(text)\n",
    "\n",
    "    return len([w for w in text_list if w.isupper()])\n",
    "\n",
    "\n",
    "def word_title_count(raw):\n",
    "    text = raw['text']\n",
    "    tokenizer = nltk.tokenize.RegexpTokenizer(r'\\w+')\n",
    "    text_list = tokenizer.tokenize(text)\n",
    "\n",
    "    return len([w for w in text_list if w.istitle()])\n",
    "\n",
    "\n",
    "def word_len_mean(raw):\n",
    "    text = raw['text']\n",
    "    tokenizer = nltk.tokenize.RegexpTokenizer(r'\\w+')\n",
    "    text_list = tokenizer.tokenize(text)\n",
    "\n",
    "    return np.mean([len(w) for w in text_list])\n",
    "\n",
    "\n",
    "def unique_word_fraction(raw):\n",
    "    text = raw['text'].lower()\n",
    "    tokenizer = nltk.tokenize.RegexpTokenizer(r'\\w+')\n",
    "    text_list = tokenizer.tokenize(text)\n",
    "\n",
    "    unique_word_count = len(list(set(text_list)))\n",
    "    word_count = len(text_list)\n",
    "    return unique_word_count / word_count\n",
    "\n",
    "\n",
    "def stopwords_fraction(raw):\n",
    "    text = raw['text'].lower()\n",
    "    tokenizer = nltk.tokenize.RegexpTokenizer(r'\\w+')\n",
    "    text_list = tokenizer.tokenize(text)\n",
    "\n",
    "    stopwords = nltk.corpus.stopwords.words('english')\n",
    "\n",
    "    stopwords_count = len([w for w in text_list if w in stopwords])\n",
    "    word_count = len(text_list)\n",
    "    return stopwords_count / word_count\n",
    "\n",
    "\n",
    "def punctuations_fraction(raw):\n",
    "    text = raw['text'].lower()\n",
    "    text_list = nltk.word_tokenize(text)\n",
    "\n",
    "    punctuation_count = len([w for w in text_list if w in string.punctuation])\n",
    "    char_count = len(text)\n",
    "    return punctuation_count / char_count"
   ]
  },
  {
   "cell_type": "code",
   "execution_count": 17,
   "metadata": {},
   "outputs": [],
   "source": [
    "for dataset in full_data:\n",
    "    dataset['word_count'] = dataset.apply(lambda raw: word_count(raw), axis=1)\n",
    "    dataset['char_count'] = dataset.apply(lambda raw: char_count(raw), axis=1)\n",
    "    dataset['unique_word_count'] = dataset.apply(lambda raw: unique_word_count(raw), axis=1)\n",
    "    dataset['stopwords_count'] = dataset.apply(lambda raw: stopwords_count(raw), axis=1)\n",
    "    dataset['punctuations_count'] = dataset.apply(lambda raw: punctuations_count(raw), axis=1)\n",
    "    dataset['word_upper_count'] = dataset.apply(lambda raw: word_upper_count(raw), axis=1)\n",
    "    dataset['word_title_count'] = dataset.apply(lambda raw: word_title_count(raw), axis=1)\n",
    "    dataset['word_len_mean'] = dataset.apply(lambda raw: word_len_mean(raw), axis=1)\n",
    "    \n",
    "    dataset['unique_word_fraction'] = dataset.apply(lambda raw: unique_word_fraction(raw), axis=1)\n",
    "    dataset['stopwords_fraction'] = dataset.apply(lambda raw: stopwords_fraction(raw), axis=1)\n",
    "    dataset['punctuations_fraction'] = dataset.apply(lambda raw: punctuations_fraction(raw), axis=1)\n",
    "    # -- TODO --"
   ]
  },
  {
   "cell_type": "code",
   "execution_count": 18,
   "metadata": {
    "scrolled": true
   },
   "outputs": [
    {
     "data": {
      "text/plain": [
       "<matplotlib.legend.Legend at 0x7f183987ea90>"
      ]
     },
     "execution_count": 18,
     "metadata": {},
     "output_type": "execute_result"
    },
    {
     "data": {
      "image/png": "[encoded data removed]",
      "text/plain": [
       "<matplotlib.figure.Figure at 0x7f1839cf15f8>"
      ]
     },
     "metadata": {},
     "output_type": "display_data"
    }
   ],
   "source": [
    "fig, ax = plt.subplots(nrows=3, sharex=True, sharey=True, figsize=(14, 10))\n",
    "sns.distplot(\n",
    "    train.loc[train['author'] == 'EAP']['word_count'].values,\n",
    "    ax=ax[0],\n",
    "    color='blue',\n",
    "    label='Edgar Allan Poe')\n",
    "sns.distplot(\n",
    "    train.loc[train['author'] == 'MWS']['word_count'].values,\n",
    "    ax=ax[1],\n",
    "    color='green',\n",
    "    label='Mary Shelley')\n",
    "sns.distplot(\n",
    "    train.loc[train['author'] == 'HPL']['word_count'].values,\n",
    "    ax=ax[2],\n",
    "    color='red',\n",
    "    label='HP Lovecraft')\n",
    "ax[0].legend(loc=0)\n",
    "ax[1].legend(loc=0)\n",
    "ax[2].legend(loc=0)"
   ]
  },
  {
   "cell_type": "markdown",
   "metadata": {},
   "source": [
    "## XGBoost model using Text based features"
   ]
  },
  {
   "cell_type": "code",
   "execution_count": 19,
   "metadata": {},
   "outputs": [
    {
     "name": "stdout",
     "output_type": "stream",
     "text": [
      "(19579, 11) (8392, 11)\n"
     ]
    },
    {
     "data": {
      "text/html": [
       "<div>\n",
       "<style scoped>\n",
       "    .dataframe tbody tr th:only-of-type {\n",
       "        vertical-align: middle;\n",
       "    }\n",
       "\n",
       "    .dataframe tbody tr th {\n",
       "        vertical-align: top;\n",
       "    }\n",
       "\n",
       "    .dataframe thead th {\n",
       "        text-align: right;\n",
       "    }\n",
       "</style>\n",
       "<table border=\"1\" class=\"dataframe\">\n",
       "  <thead>\n",
       "    <tr style=\"text-align: right;\">\n",
       "      <th></th>\n",
       "      <th>word_count</th>\n",
       "      <th>char_count</th>\n",
       "      <th>unique_word_count</th>\n",
       "      <th>stopwords_count</th>\n",
       "      <th>punctuations_count</th>\n",
       "      <th>word_upper_count</th>\n",
       "      <th>word_title_count</th>\n",
       "      <th>word_len_mean</th>\n",
       "      <th>unique_word_fraction</th>\n",
       "      <th>stopwords_fraction</th>\n",
       "      <th>punctuations_fraction</th>\n",
       "    </tr>\n",
       "  </thead>\n",
       "  <tbody>\n",
       "    <tr>\n",
       "      <th>0</th>\n",
       "      <td>41</td>\n",
       "      <td>231</td>\n",
       "      <td>35</td>\n",
       "      <td>20</td>\n",
       "      <td>7</td>\n",
       "      <td>2</td>\n",
       "      <td>3</td>\n",
       "      <td>4.487805</td>\n",
       "      <td>0.853659</td>\n",
       "      <td>0.487805</td>\n",
       "      <td>0.030303</td>\n",
       "    </tr>\n",
       "    <tr>\n",
       "      <th>1</th>\n",
       "      <td>14</td>\n",
       "      <td>71</td>\n",
       "      <td>14</td>\n",
       "      <td>8</td>\n",
       "      <td>1</td>\n",
       "      <td>0</td>\n",
       "      <td>1</td>\n",
       "      <td>4.071429</td>\n",
       "      <td>1.000000</td>\n",
       "      <td>0.571429</td>\n",
       "      <td>0.014085</td>\n",
       "    </tr>\n",
       "    <tr>\n",
       "      <th>2</th>\n",
       "      <td>36</td>\n",
       "      <td>200</td>\n",
       "      <td>32</td>\n",
       "      <td>17</td>\n",
       "      <td>5</td>\n",
       "      <td>0</td>\n",
       "      <td>1</td>\n",
       "      <td>4.444444</td>\n",
       "      <td>0.888889</td>\n",
       "      <td>0.472222</td>\n",
       "      <td>0.025000</td>\n",
       "    </tr>\n",
       "    <tr>\n",
       "      <th>3</th>\n",
       "      <td>34</td>\n",
       "      <td>206</td>\n",
       "      <td>31</td>\n",
       "      <td>13</td>\n",
       "      <td>4</td>\n",
       "      <td>0</td>\n",
       "      <td>4</td>\n",
       "      <td>4.970588</td>\n",
       "      <td>0.911765</td>\n",
       "      <td>0.382353</td>\n",
       "      <td>0.019417</td>\n",
       "    </tr>\n",
       "    <tr>\n",
       "      <th>4</th>\n",
       "      <td>27</td>\n",
       "      <td>174</td>\n",
       "      <td>25</td>\n",
       "      <td>11</td>\n",
       "      <td>4</td>\n",
       "      <td>0</td>\n",
       "      <td>2</td>\n",
       "      <td>5.333333</td>\n",
       "      <td>0.925926</td>\n",
       "      <td>0.407407</td>\n",
       "      <td>0.022989</td>\n",
       "    </tr>\n",
       "  </tbody>\n",
       "</table>\n",
       "</div>"
      ],
      "text/plain": [
       "   word_count  char_count  unique_word_count  stopwords_count  \\\n",
       "0          41         231                 35               20   \n",
       "1          14          71                 14                8   \n",
       "2          36         200                 32               17   \n",
       "3          34         206                 31               13   \n",
       "4          27         174                 25               11   \n",
       "\n",
       "   punctuations_count  word_upper_count  word_title_count  word_len_mean  \\\n",
       "0                   7                 2                 3       4.487805   \n",
       "1                   1                 0                 1       4.071429   \n",
       "2                   5                 0                 1       4.444444   \n",
       "3                   4                 0                 4       4.970588   \n",
       "4                   4                 0                 2       5.333333   \n",
       "\n",
       "   unique_word_fraction  stopwords_fraction  punctuations_fraction  \n",
       "0              0.853659            0.487805               0.030303  \n",
       "1              1.000000            0.571429               0.014085  \n",
       "2              0.888889            0.472222               0.025000  \n",
       "3              0.911765            0.382353               0.019417  \n",
       "4              0.925926            0.407407               0.022989  "
      ]
     },
     "execution_count": 19,
     "metadata": {},
     "output_type": "execute_result"
    }
   ],
   "source": [
    "# Prepare the data for modeling\n",
    "author_mapping_dict = {'EAP': 0, 'HPL': 1, 'MWS': 2}\n",
    "y_train = train['author'].map(author_mapping_dict)\n",
    "id_train = train['id'].values\n",
    "id_test = test['id'].values\n",
    "\n",
    "drop_elements = ['id', 'text']\n",
    "x_train = train.drop(drop_elements + ['author'], axis=1)\n",
    "x_test = test.drop(drop_elements, axis=1)\n",
    "\n",
    "print(x_train.shape, x_test.shape)\n",
    "x_train.head()"
   ]
  },
  {
   "cell_type": "code",
   "execution_count": 20,
   "metadata": {
    "scrolled": true
   },
   "outputs": [
    {
     "name": "stdout",
     "output_type": "stream",
     "text": [
      "[0]\ttrain-mlogloss:1.08713\tval-mlogloss:1.08839\n",
      "Multiple eval metrics have been passed: 'val-mlogloss' will be used for early stopping.\n",
      "\n",
      "Will train until val-mlogloss hasn't improved in 50 rounds.\n",
      "[40]\ttrain-mlogloss:0.972306\tval-mlogloss:0.996056\n",
      "[80]\ttrain-mlogloss:0.948454\tval-mlogloss:0.981198\n",
      "[120]\ttrain-mlogloss:0.935591\tval-mlogloss:0.976934\n",
      "[160]\ttrain-mlogloss:0.926327\tval-mlogloss:0.975127\n",
      "[200]\ttrain-mlogloss:0.918052\tval-mlogloss:0.974928\n",
      "[240]\ttrain-mlogloss:0.910725\tval-mlogloss:0.97614\n",
      "Stopping. Best iteration:\n",
      "[195]\ttrain-mlogloss:0.919081\tval-mlogloss:0.974795\n",
      "\n",
      "[0]\ttrain-mlogloss:1.08725\tval-mlogloss:1.08757\n",
      "Multiple eval metrics have been passed: 'val-mlogloss' will be used for early stopping.\n",
      "\n",
      "Will train until val-mlogloss hasn't improved in 50 rounds.\n",
      "[40]\ttrain-mlogloss:0.97619\tval-mlogloss:0.9861\n",
      "[80]\ttrain-mlogloss:0.952162\tval-mlogloss:0.969587\n",
      "[120]\ttrain-mlogloss:0.939557\tval-mlogloss:0.964067\n",
      "[160]\ttrain-mlogloss:0.930159\tval-mlogloss:0.961705\n",
      "[200]\ttrain-mlogloss:0.922409\tval-mlogloss:0.961286\n",
      "[240]\ttrain-mlogloss:0.91546\tval-mlogloss:0.96164\n",
      "Stopping. Best iteration:\n",
      "[211]\ttrain-mlogloss:0.920543\tval-mlogloss:0.96103\n",
      "\n",
      "[0]\ttrain-mlogloss:1.08732\tval-mlogloss:1.08813\n",
      "Multiple eval metrics have been passed: 'val-mlogloss' will be used for early stopping.\n",
      "\n",
      "Will train until val-mlogloss hasn't improved in 50 rounds.\n",
      "[40]\ttrain-mlogloss:0.973685\tval-mlogloss:0.989478\n",
      "[80]\ttrain-mlogloss:0.949943\tval-mlogloss:0.976135\n",
      "[120]\ttrain-mlogloss:0.937059\tval-mlogloss:0.972021\n",
      "[160]\ttrain-mlogloss:0.92748\tval-mlogloss:0.970188\n",
      "[200]\ttrain-mlogloss:0.919556\tval-mlogloss:0.969815\n",
      "[240]\ttrain-mlogloss:0.911936\tval-mlogloss:0.970438\n",
      "Stopping. Best iteration:\n",
      "[206]\ttrain-mlogloss:0.918337\tval-mlogloss:0.969722\n",
      "\n",
      "[0]\ttrain-mlogloss:1.08743\tval-mlogloss:1.08773\n",
      "Multiple eval metrics have been passed: 'val-mlogloss' will be used for early stopping.\n",
      "\n",
      "Will train until val-mlogloss hasn't improved in 50 rounds.\n",
      "[40]\ttrain-mlogloss:0.974191\tval-mlogloss:0.987913\n",
      "[80]\ttrain-mlogloss:0.950633\tval-mlogloss:0.973199\n",
      "[120]\ttrain-mlogloss:0.937917\tval-mlogloss:0.968478\n",
      "[160]\ttrain-mlogloss:0.928343\tval-mlogloss:0.966146\n",
      "[200]\ttrain-mlogloss:0.920183\tval-mlogloss:0.965165\n",
      "[240]\ttrain-mlogloss:0.912914\tval-mlogloss:0.965135\n",
      "Stopping. Best iteration:\n",
      "[226]\ttrain-mlogloss:0.915343\tval-mlogloss:0.96477\n",
      "\n",
      "[0]\ttrain-mlogloss:1.09055\tval-mlogloss:1.09004\n",
      "Multiple eval metrics have been passed: 'val-mlogloss' will be used for early stopping.\n",
      "\n",
      "Will train until val-mlogloss hasn't improved in 50 rounds.\n",
      "[40]\ttrain-mlogloss:0.975477\tval-mlogloss:0.982645\n",
      "[80]\ttrain-mlogloss:0.951806\tval-mlogloss:0.967692\n",
      "[120]\ttrain-mlogloss:0.939059\tval-mlogloss:0.963616\n",
      "[160]\ttrain-mlogloss:0.928991\tval-mlogloss:0.962139\n",
      "[200]\ttrain-mlogloss:0.920727\tval-mlogloss:0.960878\n",
      "[240]\ttrain-mlogloss:0.91337\tval-mlogloss:0.961813\n",
      "Stopping. Best iteration:\n",
      "[193]\ttrain-mlogloss:0.921894\tval-mlogloss:0.960793\n",
      "\n",
      "Mean cv score: 0.9662220571520848\n"
     ]
    }
   ],
   "source": [
    "n_splits = 5\n",
    "kf = model_selection.KFold(n_splits=n_splits, shuffle=True, random_state=2017)\n",
    "cv_scores = []\n",
    "pred_full_test = 0\n",
    "pred_train = np.zeros([train.shape[0], 3])\n",
    "\n",
    "for idx_dev, idx_val in kf.split(x_train):\n",
    "    x_dev, x_val = x_train.loc[idx_dev], x_train.loc[idx_val]\n",
    "    y_dev, y_val = y_train[idx_dev], y_train[idx_val]\n",
    "    pred_y_val, pred_y_test, model = runXGB(x_dev, y_dev, x_val, y_val, x_test)\n",
    "    pred_full_test = pred_full_test + pred_y_test\n",
    "    pred_train[idx_val, :] = pred_y_val\n",
    "    cv_scores.append(metrics.log_loss(y_val, pred_y_val))\n",
    "pred_full_test = pred_full_test / float(n_splits)\n",
    "print(\"Mean cv score: {}\".format(np.mean(cv_scores)))"
   ]
  },
  {
   "cell_type": "code",
   "execution_count": 21,
   "metadata": {},
   "outputs": [
    {
     "data": {
      "image/png": "[encoded data removed]",
      "text/plain": [
       "<matplotlib.figure.Figure at 0x7f1839cc2be0>"
      ]
     },
     "metadata": {},
     "output_type": "display_data"
    }
   ],
   "source": [
    "fig, ax = plt.subplots(figsize=(12, 8))\n",
    "xgb.plot_importance(model, height=0.8, ax=ax)\n",
    "plt.show()"
   ]
  },
  {
   "cell_type": "markdown",
   "metadata": {},
   "source": [
    "## -- word Count and TFIDF features --"
   ]
  },
  {
   "cell_type": "code",
   "execution_count": 22,
   "metadata": {},
   "outputs": [],
   "source": [
    "lemm = nltk.stem.WordNetLemmatizer()\n",
    "\n",
    "\n",
    "class LemmCountVectorizer(CountVectorizer):\n",
    "    def build_analyzer(self):\n",
    "        analyzer = super(LemmCountVectorizer, self).build_analyzer()\n",
    "        return lambda doc: (lemm.lemmatize(w) for w in analyzer(doc))\n",
    "\n",
    "\n",
    "class LemmTfidfVectorizer(TfidfVectorizer):\n",
    "    def build_analyzer(self):\n",
    "        analyzer = super(LemmTfidfVectorizer, self).build_analyzer()\n",
    "        return lambda doc: (lemm.lemmatize(w) for w in analyzer(doc))"
   ]
  },
  {
   "cell_type": "code",
   "execution_count": 23,
   "metadata": {},
   "outputs": [],
   "source": [
    "# word vectorizer\n",
    "tf_vectorizer = LemmCountVectorizer(stop_words='english', ngram_range=(1,3))\n",
    "tf_train = tf_vectorizer.fit_transform(train['text'].values.tolist())\n",
    "tf_test = tf_vectorizer.transform(test['text'].values.tolist())\n",
    "\n",
    "tfidf_vectorizer = LemmTfidfVectorizer(stop_words='english', ngram_range=(1, 3))\n",
    "tfidf_train = tfidf_vectorizer.fit_transform(train['text'].values.tolist())\n",
    "tfidf_test = tfidf_vectorizer.transform(test['text'].values.tolist())"
   ]
  },
  {
   "cell_type": "markdown",
   "metadata": {},
   "source": [
    "## Naive Bayes model using word Count features"
   ]
  },
  {
   "cell_type": "code",
   "execution_count": 24,
   "metadata": {
    "scrolled": false
   },
   "outputs": [
    {
     "name": "stdout",
     "output_type": "stream",
     "text": [
      "Mean cv score : 0.4581034305450692\n"
     ]
    }
   ],
   "source": [
    "n_splits = 5\n",
    "kf = model_selection.KFold(n_splits=n_splits, shuffle=True, random_state=2017)\n",
    "cv_scores = []\n",
    "pred_full_test = 0\n",
    "pred_train = np.zeros([train.shape[0], 3])\n",
    "\n",
    "for idx_dev, idx_val in kf.split(tf_train):\n",
    "    x_dev, x_val = tf_train[idx_dev], tf_train[idx_val]\n",
    "    y_dev, y_val = y_train[idx_dev], y_train[idx_val]\n",
    "    pred_y_val, pred_y_test, model = runMNB(x_dev, y_dev, x_val, tf_test)\n",
    "    pred_full_test = pred_full_test + pred_y_test\n",
    "    pred_train[idx_val, :] = pred_y_val\n",
    "    cv_scores.append(metrics.log_loss(y_val, pred_y_val))\n",
    "pred_full_test = pred_full_test / float(n_splits)\n",
    "print(\"Mean cv score : {}\".format(np.mean(cv_scores)))"
   ]
  },
  {
   "cell_type": "code",
   "execution_count": 25,
   "metadata": {},
   "outputs": [],
   "source": [
    "# add the predictions as new features\n",
    "train[\"nb_word_count_eap\"] = pred_train[:,0]\n",
    "train[\"nb_word_count_hpl\"] = pred_train[:,1]\n",
    "train[\"nb_word_count_mws\"] = pred_train[:,2]\n",
    "test[\"nb_word_count_eap\"] = pred_full_test[:,0]\n",
    "test[\"nb_word_count_hpl\"] = pred_full_test[:,1]\n",
    "test[\"nb_word_count_mws\"] = pred_full_test[:,2]"
   ]
  },
  {
   "cell_type": "code",
   "execution_count": 26,
   "metadata": {
    "scrolled": true
   },
   "outputs": [
    {
     "name": "stdout",
     "output_type": "stream",
     "text": [
      "Confusion matrix, without normalization\n",
      "[[1308  110  177]\n",
      " [ 111  899   88]\n",
      " [ 121   50 1051]]\n"
     ]
    },
    {
     "data": {
      "image/png": "[encoded data removed]",
      "text/plain": [
       "<matplotlib.figure.Figure at 0x7f18365536d8>"
      ]
     },
     "metadata": {},
     "output_type": "display_data"
    }
   ],
   "source": [
    "cnf_matrix = confusion_matrix(y_val, np.argmax(pred_y_val, axis=1))\n",
    "np.set_printoptions(precision=2)\n",
    "\n",
    "# Plot non-normalized confusion matrix\n",
    "plt.figure(figsize=(8, 8))\n",
    "plot_confusion_matrix(\n",
    "    cnf_matrix,\n",
    "    classes=['EAP', 'HPL', 'MWS'],\n",
    "    title='Confusion matrix, without normalization')\n",
    "plt.show()"
   ]
  },
  {
   "cell_type": "markdown",
   "metadata": {},
   "source": [
    "## Naive Bayes model using word TFIDF features"
   ]
  },
  {
   "cell_type": "code",
   "execution_count": 27,
   "metadata": {
    "scrolled": true
   },
   "outputs": [
    {
     "name": "stdout",
     "output_type": "stream",
     "text": [
      "Mean cv score : 0.8335510961069861\n"
     ]
    }
   ],
   "source": [
    "n_splits = 5\n",
    "kf = model_selection.KFold(n_splits=n_splits, shuffle=True, random_state=2017)\n",
    "cv_scores = []\n",
    "pred_full_test = 0\n",
    "pred_train = np.zeros([train.shape[0], 3])\n",
    "\n",
    "for idx_dev, idx_val in kf.split(tfidf_train):\n",
    "    x_dev, x_val = tfidf_train[idx_dev], tfidf_train[idx_val]\n",
    "    y_dev, y_val = y_train[idx_dev], y_train[idx_val]\n",
    "    pred_y_val, pred_y_test, model = runMNB(x_dev, y_dev, x_val, tfidf_test)\n",
    "    pred_full_test = pred_full_test + pred_y_test\n",
    "    pred_train[idx_val, :] = pred_y_val\n",
    "    cv_scores.append(metrics.log_loss(y_val, pred_y_val))\n",
    "pred_full_test = pred_full_test / float(n_splits)\n",
    "print(\"Mean cv score : {}\".format(np.mean(cv_scores)))"
   ]
  },
  {
   "cell_type": "code",
   "execution_count": 28,
   "metadata": {},
   "outputs": [],
   "source": [
    "# add the predictions as new features\n",
    "train[\"nb_word_tfidf_eap\"] = pred_train[:,0]\n",
    "train[\"nb_word_tfidf_hpl\"] = pred_train[:,1]\n",
    "train[\"nb_word_tfidf_mws\"] = pred_train[:,2]\n",
    "test[\"nb_word_tfidf_eap\"] = pred_full_test[:,0]\n",
    "test[\"nb_word_tfidf_hpl\"] = pred_full_test[:,1]\n",
    "test[\"nb_word_tfidf_mws\"] = pred_full_test[:,2]"
   ]
  },
  {
   "cell_type": "code",
   "execution_count": 29,
   "metadata": {
    "scrolled": true
   },
   "outputs": [
    {
     "name": "stdout",
     "output_type": "stream",
     "text": [
      "Confusion matrix, without normalization\n",
      "[[1532   16   47]\n",
      " [ 522  530   46]\n",
      " [ 453   11  758]]\n"
     ]
    },
    {
     "data": {
      "image/png": "[encoded data removed]",
      "text/plain": [
       "<matplotlib.figure.Figure at 0x7f18384919b0>"
      ]
     },
     "metadata": {},
     "output_type": "display_data"
    }
   ],
   "source": [
    "cnf_matrix = confusion_matrix(y_val, np.argmax(pred_y_val, axis=1))\n",
    "np.set_printoptions(precision=2)\n",
    "\n",
    "# Plot non-normalized confusion matrix\n",
    "plt.figure(figsize=(8, 8))\n",
    "plot_confusion_matrix(\n",
    "    cnf_matrix,\n",
    "    classes=['EAP', 'HPL', 'MWS'],\n",
    "    title='Confusion matrix, without normalization')\n",
    "plt.show()"
   ]
  },
  {
   "cell_type": "markdown",
   "metadata": {},
   "source": [
    "## SVD on word TFIDF features"
   ]
  },
  {
   "cell_type": "code",
   "execution_count": 30,
   "metadata": {},
   "outputs": [
    {
     "name": "stdout",
     "output_type": "stream",
     "text": [
      "Time taken in tf-idf is 3.824287176132202.\n"
     ]
    }
   ],
   "source": [
    "start = time.time()\n",
    "\n",
    "n_comp = 40\n",
    "svd = TruncatedSVD(n_components=n_comp, algorithm='arpack', random_state=2017)\n",
    "\n",
    "svd_train = svd.fit_transform(tfidf_train)\n",
    "svd_test = svd.transform(tfidf_test)\n",
    "svd_train_df = pd.DataFrame(svd_train)\n",
    "svd_test_df = pd.DataFrame(svd_test)\n",
    "\n",
    "svd_train_df.columns = ['svd_word_' + str(i) for i in range(n_comp)]\n",
    "svd_test_df.columns = ['svd_word_' + str(i) for i in range(n_comp)]\n",
    "train = pd.concat([train, svd_train_df], axis=1)\n",
    "test = pd.concat([test, svd_test_df], axis=1)\n",
    "\n",
    "end = time.time()\n",
    "print(\"Time taken in tf-idf is {}.\".format(end - start))"
   ]
  },
  {
   "cell_type": "markdown",
   "metadata": {},
   "source": [
    "## -- char Count and TFIDF features --"
   ]
  },
  {
   "cell_type": "code",
   "execution_count": 31,
   "metadata": {},
   "outputs": [],
   "source": [
    "# char vectorizer\n",
    "tfc_vectorizer = CountVectorizer(ngram_range=(1, 7), analyzer='char')\n",
    "tfc_train = tfc_vectorizer.fit_transform(train['text'].values.tolist())\n",
    "tfc_test = tfc_vectorizer.transform(test['text'].values.tolist())\n",
    "\n",
    "tfidfc_vectorizer = TfidfVectorizer(ngram_range=(1, 7), analyzer='char')\n",
    "tfidfc_train = tfidfc_vectorizer.fit_transform(train['text'].values.tolist())\n",
    "tfidfc_test = tfidfc_vectorizer.transform(test['text'].values.tolist())"
   ]
  },
  {
   "cell_type": "markdown",
   "metadata": {},
   "source": [
    "## Naive Bayes model using char Count features"
   ]
  },
  {
   "cell_type": "code",
   "execution_count": 32,
   "metadata": {
    "scrolled": true
   },
   "outputs": [
    {
     "name": "stdout",
     "output_type": "stream",
     "text": [
      "Mean cv score : 3.725182058538286\n"
     ]
    }
   ],
   "source": [
    "n_splits = 5\n",
    "kf = model_selection.KFold(n_splits=n_splits, shuffle=True, random_state=2017)\n",
    "cv_scores = []\n",
    "pred_full_test = 0\n",
    "pred_train = np.zeros([train.shape[0], 3])\n",
    "\n",
    "for idx_dev, idx_val in kf.split(tfc_train):\n",
    "    x_dev, x_val = tfc_train[idx_dev], tfc_train[idx_val]\n",
    "    y_dev, y_val = y_train[idx_dev], y_train[idx_val]\n",
    "    pred_y_val, pred_y_test, model = runMNB(x_dev, y_dev, x_val, tfc_test)\n",
    "    pred_full_test = pred_full_test + pred_y_test\n",
    "    pred_train[idx_val, :] = pred_y_val\n",
    "    cv_scores.append(metrics.log_loss(y_val, pred_y_val))\n",
    "pred_full_test = pred_full_test / float(n_splits)\n",
    "print(\"Mean cv score : {}\".format(np.mean(cv_scores)))"
   ]
  },
  {
   "cell_type": "code",
   "execution_count": 33,
   "metadata": {},
   "outputs": [],
   "source": [
    "# add the predictions as new features\n",
    "train[\"nb_char_count_eap\"] = pred_train[:,0]\n",
    "train[\"nb_char_count_hpl\"] = pred_train[:,1]\n",
    "train[\"nb_char_count_mws\"] = pred_train[:,2]\n",
    "test[\"nb_char_count_eap\"] = pred_full_test[:,0]\n",
    "test[\"nb_char_count_hpl\"] = pred_full_test[:,1]\n",
    "test[\"nb_char_count_mws\"] = pred_full_test[:,2]"
   ]
  },
  {
   "cell_type": "code",
   "execution_count": 34,
   "metadata": {
    "scrolled": true
   },
   "outputs": [
    {
     "name": "stdout",
     "output_type": "stream",
     "text": [
      "Confusion matrix, without normalization\n",
      "[[1348   97  150]\n",
      " [ 141  887   70]\n",
      " [ 114   57 1051]]\n"
     ]
    },
    {
     "data": {
      "image/png": "[encoded data removed]",
      "text/plain": [
       "<matplotlib.figure.Figure at 0x7f181445f0b8>"
      ]
     },
     "metadata": {},
     "output_type": "display_data"
    }
   ],
   "source": [
    "cnf_matrix = confusion_matrix(y_val, np.argmax(pred_y_val, axis=1))\n",
    "np.set_printoptions(precision=2)\n",
    "\n",
    "# Plot non-normalized confusion matrix\n",
    "plt.figure(figsize=(8, 8))\n",
    "plot_confusion_matrix(\n",
    "    cnf_matrix,\n",
    "    classes=['EAP', 'HPL', 'MWS'],\n",
    "    title='Confusion matrix, without normalization')\n",
    "plt.show()"
   ]
  },
  {
   "cell_type": "markdown",
   "metadata": {},
   "source": [
    "## Naive Bayes model using char TFIDF features"
   ]
  },
  {
   "cell_type": "code",
   "execution_count": 35,
   "metadata": {
    "scrolled": true
   },
   "outputs": [
    {
     "name": "stdout",
     "output_type": "stream",
     "text": [
      "Mean cv score : 0.8924656818342923\n"
     ]
    }
   ],
   "source": [
    "n_splits = 5\n",
    "kf = model_selection.KFold(n_splits=n_splits, shuffle=True, random_state=2017)\n",
    "cv_scores = []\n",
    "pred_full_test = 0\n",
    "pred_train = np.zeros([train.shape[0], 3])\n",
    "\n",
    "for idx_dev, idx_val in kf.split(tfidfc_train):\n",
    "    x_dev, x_val = tfidfc_train[idx_dev], tfidfc_train[idx_val]\n",
    "    y_dev, y_val = y_train[idx_dev], y_train[idx_val]\n",
    "    pred_y_val, pred_y_test, model = runMNB(x_dev, y_dev, x_val, tfidfc_test)\n",
    "    pred_full_test = pred_full_test + pred_y_test\n",
    "    pred_train[idx_val, :] = pred_y_val\n",
    "    cv_scores.append(metrics.log_loss(y_val, pred_y_val))\n",
    "pred_full_test = pred_full_test / float(n_splits)\n",
    "print(\"Mean cv score : {}\".format(np.mean(cv_scores)))"
   ]
  },
  {
   "cell_type": "code",
   "execution_count": 36,
   "metadata": {},
   "outputs": [],
   "source": [
    "# add the predictions as new features\n",
    "train[\"nb_char_tfidf_eap\"] = pred_train[:,0]\n",
    "train[\"nb_char_tfidf_hpl\"] = pred_train[:,1]\n",
    "train[\"nb_char_tfidf_mws\"] = pred_train[:,2]\n",
    "test[\"nb_char_tfidf_eap\"] = pred_full_test[:,0]\n",
    "test[\"nb_char_tfidf_hpl\"] = pred_full_test[:,1]\n",
    "test[\"nb_char_tfidf_mws\"] = pred_full_test[:,2]"
   ]
  },
  {
   "cell_type": "code",
   "execution_count": 37,
   "metadata": {
    "scrolled": true
   },
   "outputs": [
    {
     "name": "stdout",
     "output_type": "stream",
     "text": [
      "Confusion matrix, without normalization\n",
      "[[1578    2   15]\n",
      " [ 850  233   15]\n",
      " [ 798    4  420]]\n"
     ]
    },
    {
     "data": {
      "image/png": "[encoded data removed]",
      "text/plain": [
       "<matplotlib.figure.Figure at 0x7f18392f0668>"
      ]
     },
     "metadata": {},
     "output_type": "display_data"
    }
   ],
   "source": [
    "cnf_matrix = confusion_matrix(y_val, np.argmax(pred_y_val, axis=1))\n",
    "np.set_printoptions(precision=2)\n",
    "\n",
    "# Plot non-normalized confusion matrix\n",
    "plt.figure(figsize=(8, 8))\n",
    "plot_confusion_matrix(\n",
    "    cnf_matrix,\n",
    "    classes=['EAP', 'HPL', 'MWS'],\n",
    "    title='Confusion matrix, without normalization')\n",
    "plt.show()"
   ]
  },
  {
   "cell_type": "markdown",
   "metadata": {},
   "source": [
    "## SVD on char TFIDF features"
   ]
  },
  {
   "cell_type": "code",
   "execution_count": 38,
   "metadata": {},
   "outputs": [
    {
     "name": "stdout",
     "output_type": "stream",
     "text": [
      "Time taken in tf-idf is 33.94087815284729.\n"
     ]
    }
   ],
   "source": [
    "start = time.time()\n",
    "\n",
    "n_comp = 40\n",
    "svd = TruncatedSVD(n_components=n_comp, algorithm='arpack', random_state=2017)\n",
    "\n",
    "svd_train = svd.fit_transform(tfidfc_train)\n",
    "svd_test = svd.transform(tfidfc_test)\n",
    "svd_train_df = pd.DataFrame(svd_train)\n",
    "svd_test_df = pd.DataFrame(svd_test)\n",
    "\n",
    "svd_train_df.columns = ['svd_char_' + str(i) for i in range(n_comp)]\n",
    "svd_test_df.columns = ['svd_char_' + str(i) for i in range(n_comp)]\n",
    "train = pd.concat([train, svd_train_df], axis=1)\n",
    "test = pd.concat([test, svd_test_df], axis=1)\n",
    "\n",
    "end = time.time()\n",
    "print(\"Time taken in tf-idf is {}.\".format(end - start))"
   ]
  },
  {
   "cell_type": "markdown",
   "metadata": {},
   "source": [
    "## lda TODO"
   ]
  },
  {
   "cell_type": "code",
   "execution_count": 20,
   "metadata": {},
   "outputs": [],
   "source": [
    "# Define helper function to print top words\n",
    "def print_top_words(model, feature_names, n_top_words):\n",
    "    for index, topic in enumerate(model.components_):\n",
    "        message = (\"\\nTopic #{}: \").format(index)\n",
    "        message += \" \".join([feature_names[i] for i in topic.argsort()[:-n_top_words - 1 :-1]])\n",
    "        print(message)\n",
    "        print(\"=\"*70)"
   ]
  },
  {
   "cell_type": "code",
   "execution_count": 21,
   "metadata": {},
   "outputs": [],
   "source": [
    "lda = LatentDirichletAllocation(\n",
    "    n_components=10,\n",
    "    max_iter=5,\n",
    "    learning_method='online',\n",
    "    learning_offset=50.,\n",
    "    random_state=0)"
   ]
  },
  {
   "cell_type": "code",
   "execution_count": 22,
   "metadata": {},
   "outputs": [
    {
     "data": {
      "text/plain": [
       "LatentDirichletAllocation(batch_size=128, doc_topic_prior=None,\n",
       "             evaluate_every=-1, learning_decay=0.7,\n",
       "             learning_method='online', learning_offset=50.0,\n",
       "             max_doc_update_iter=100, max_iter=5, mean_change_tol=0.001,\n",
       "             n_components=10, n_jobs=1, n_topics=None, perp_tol=0.1,\n",
       "             random_state=0, topic_word_prior=None,\n",
       "             total_samples=1000000.0, verbose=0)"
      ]
     },
     "execution_count": 22,
     "metadata": {},
     "output_type": "execute_result"
    }
   ],
   "source": [
    "#lda.fit(tfidf_train)\n",
    "lda.fit(tf_train)"
   ]
  },
  {
   "cell_type": "code",
   "execution_count": 23,
   "metadata": {
    "scrolled": true
   },
   "outputs": [
    {
     "name": "stdout",
     "output_type": "stream",
     "text": [
      "Topics in LDA model: \n",
      "\n",
      "Topic #0: admiralty court streets admiration pity especially events nineteenth ah dearest friend action lingered account properly belong period life abstract conception account circumstances brought neglect father accomplished loss advanced truth argument acolyte bear brimming advanced bore small afterward reproduced associated advances time exuberant act hesitation vanished acquired knowledge addition raymond dispelled adduced support idea articles adorn mind person man fitted account patient condition acetylene headlight despite attention\n",
      "======================================================================\n",
      "\n",
      "Topic #1: adjoining staircase arrested attention addressed english voice affection undisturbed unchecked fear opened accompanied apparent rapid subsidence admonition singular low agreed understand passages act previous act accommodation man accompanied actions arising aged father adrian visited london came ah bon acts recovery agreed virtual identity phrase agora abnormal looking address noble persons mentioned husband absolutely necessary return old adder sting adorned bowers vines\n",
      "======================================================================\n",
      "\n",
      "Topic #2: abxut address discovered lay old town acknowledge recall adjoining staircase arrested attention address mystification intended especially acquired knowledge action lingered afraid live ancient afraid shines certain scenes abdul alhazred olaus adorned bowers vines aching cares aged far agreed understand passages acquainting acted lullaby keen sensations afternoon attended ushers permitted age scarcely visible wondered unperceived action government frantic appeals affection undisturbed unchecked fear opened\n",
      "======================================================================\n",
      "\n",
      "Topic #3: actors wept pourtrayed imagined passion account bank pays affection increase miseries tenfold obstacle accustomed visit adoration delighted additional ideas absolute lifelessness withdrew satisfied adorned mantel acted simple passions affirmative courage added list chance agreed father cousin consent ceremony adorned bowers vines acquaintance newspapers agatha asked age inspired reverence acquainted afforded little matter addition half afterward broad admitted remark little\n",
      "======================================================================\n",
      "\n",
      "Topic #4: accommodation man actions fully carried activity town judged news escape admitting room adept despicable actor early friend dr johnson agatha spent time acknowledge hereditary bond aerial plains abortive balm self applause ago youthful prime abaout like jelly sep admitted pressure court oyer terminer accord frequent consultation action proved abashment acknowledgment overpowering sense actual gravity bodies planet supposed adrian obliged admire dissimilar natural necessary\n",
      "======================================================================\n",
      "\n",
      "Topic #5: aged city fabulous creatures pliny accord frequent consultation added vigour disease admit kind aged far agreeing general character places period actions better worse affection undisturbed unchecked fear opened act basest admirable aid vision really immense abandoned halls towers old abruptly ended soldiers cleared space administration affairs understood paris thought abject young girl designates affectionately thank said relieved addressed voice means loud achieved hideous preliminary afrasiab voyage age tour acknowledge majesty nature\n",
      "======================================================================\n",
      "\n",
      "Topic #6: affectionately aged rapidity achievements projects account double folding gate addressed heart good natural ah bon affinity light invests hills adduced proof guilt admonition singular low adrian spoke disparagement afterward broad daylight immediate affording scope spirit ages elapsed affected crew admiralty court streets acted lullaby keen sensations placed adrian nurslings afforded little matter advanced bore actors wept pourtrayed\n",
      "======================================================================\n",
      "\n",
      "Topic #7: actions earthly life aged rapidity acted lullaby keen sensations addressed voice means loud abhorrent religion abstruseness thousand times greater agony mitigated thoughts wandered accompany dark journey accord frequent consultation admiralty court addressed french fear place absence idiosyncratic organs attribute adduced proof guilt worked admiration excited introduction adjoining complained agreed father cousin consent ceremony additional work summer adopted place afforded shelter food agent charleston enabled\n",
      "======================================================================\n",
      "\n",
      "Topic #8: accustomed suffer agonized parts addressed english voice admirer women afraid sightless vortex agony delivered unto worse death account overwhelming anxiety appeared accustomed wild tales acknowledge inability understand universe written affected imagination powerful admiration pity especially events nineteenth afflicted man fully abroad think black wilbur accustomed health ryland addressed french fear place action proved means access premises mentioned fears point adrian idris established act conformity adrian plans adept despicable\n",
      "======================================================================\n",
      "\n",
      "Topic #9: affliction shock results unlucky slip affectionately thank said relieved added years past sufferings irresistibly aged rapidity agony unknown understand aged clock striking accoutred parisian consider good adjoining complained admit consistency absolute unquestionable truth africa did like english ways aeons men accord frequent consultation afterward suddenly felt waves subside act performed check impending cataclysm absent forms accustomed suffer affairs binary advanced placed variety combustibles adduced arguments fervent accordance conclusions previously arrived things\n",
      "======================================================================\n"
     ]
    }
   ],
   "source": [
    "n_top_words = 20\n",
    "print(\"Topics in LDA model: \")\n",
    "tfidf_feature_names = tfidf_vectorizer.get_feature_names()\n",
    "print_top_words(lda, tfidf_feature_names, n_top_words)"
   ]
  },
  {
   "cell_type": "code",
   "execution_count": 24,
   "metadata": {},
   "outputs": [
    {
     "data": {
      "text/plain": [
       "(13781,)"
      ]
     },
     "execution_count": 24,
     "metadata": {},
     "output_type": "execute_result"
    }
   ],
   "source": [
    "first_topic = lda.components_[0]\n",
    "second_topic = lda.components_[1]\n",
    "third_topic = lda.components_[2]\n",
    "\n",
    "first_topic.shape"
   ]
  },
  {
   "cell_type": "code",
   "execution_count": 25,
   "metadata": {},
   "outputs": [],
   "source": [
    "first_topic_words = [\n",
    "    tfidf_feature_names[i] for i in first_topic.argsort()[:-50 - 1:-1]\n",
    "]\n",
    "second_topic_words = [\n",
    "    tfidf_feature_names[i] for i in second_topic.argsort()[:-50 - 1:-1]\n",
    "]\n",
    "third_topic_words = [\n",
    "    tfidf_feature_names[i] for i in third_topic.argsort()[:-50 - 1:-1]\n",
    "]"
   ]
  },
  {
   "cell_type": "code",
   "execution_count": 26,
   "metadata": {
    "scrolled": true
   },
   "outputs": [
    {
     "name": "stdout",
     "output_type": "stream",
     "text": [
      "7637\n",
      "7730\n",
      "13750\n",
      "5618\n",
      "3911\n",
      "1936\n",
      "3673\n",
      "3222\n",
      "9157\n",
      "4785\n",
      "9032\n",
      "11688\n",
      "9198\n",
      "5324\n",
      "5095\n",
      "7000\n",
      "7292\n",
      "8367\n",
      "3856\n",
      "4573\n",
      "139\n",
      "11224\n",
      "7394\n",
      "11997\n",
      "2745\n",
      "13527\n",
      "7623\n",
      "6099\n",
      "5252\n",
      "846\n",
      "4334\n",
      "1472\n",
      "2613\n",
      "3248\n",
      "5599\n",
      "7299\n",
      "2224\n",
      "5479\n",
      "11791\n",
      "13511\n",
      "13697\n",
      "1394\n",
      "7851\n",
      "8326\n",
      "5432\n",
      "8416\n",
      "5402\n",
      "421\n",
      "10506\n",
      "12061\n"
     ]
    }
   ],
   "source": [
    "for i in first_topic.argsort()[:-50 - 1:-1]:\n",
    "    print(i)"
   ]
  },
  {
   "cell_type": "markdown",
   "metadata": {},
   "source": [
    "## sentiment features"
   ]
  },
  {
   "cell_type": "markdown",
   "metadata": {},
   "source": [
    "# Ensembling & Stacking models"
   ]
  },
  {
   "cell_type": "code",
   "execution_count": 40,
   "metadata": {
    "scrolled": true
   },
   "outputs": [
    {
     "name": "stdout",
     "output_type": "stream",
     "text": [
      "(19579, 103) (8392, 103)\n"
     ]
    },
    {
     "data": {
      "text/html": [
       "<div>\n",
       "<style scoped>\n",
       "    .dataframe tbody tr th:only-of-type {\n",
       "        vertical-align: middle;\n",
       "    }\n",
       "\n",
       "    .dataframe tbody tr th {\n",
       "        vertical-align: top;\n",
       "    }\n",
       "\n",
       "    .dataframe thead th {\n",
       "        text-align: right;\n",
       "    }\n",
       "</style>\n",
       "<table border=\"1\" class=\"dataframe\">\n",
       "  <thead>\n",
       "    <tr style=\"text-align: right;\">\n",
       "      <th></th>\n",
       "      <th>word_count</th>\n",
       "      <th>char_count</th>\n",
       "      <th>unique_word_count</th>\n",
       "      <th>stopwords_count</th>\n",
       "      <th>punctuations_count</th>\n",
       "      <th>word_upper_count</th>\n",
       "      <th>word_title_count</th>\n",
       "      <th>word_len_mean</th>\n",
       "      <th>unique_word_fraction</th>\n",
       "      <th>stopwords_fraction</th>\n",
       "      <th>...</th>\n",
       "      <th>svd_char_30</th>\n",
       "      <th>svd_char_31</th>\n",
       "      <th>svd_char_32</th>\n",
       "      <th>svd_char_33</th>\n",
       "      <th>svd_char_34</th>\n",
       "      <th>svd_char_35</th>\n",
       "      <th>svd_char_36</th>\n",
       "      <th>svd_char_37</th>\n",
       "      <th>svd_char_38</th>\n",
       "      <th>svd_char_39</th>\n",
       "    </tr>\n",
       "  </thead>\n",
       "  <tbody>\n",
       "    <tr>\n",
       "      <th>0</th>\n",
       "      <td>41</td>\n",
       "      <td>231</td>\n",
       "      <td>35</td>\n",
       "      <td>20</td>\n",
       "      <td>7</td>\n",
       "      <td>2</td>\n",
       "      <td>3</td>\n",
       "      <td>4.487805</td>\n",
       "      <td>0.853659</td>\n",
       "      <td>0.487805</td>\n",
       "      <td>...</td>\n",
       "      <td>0.009554</td>\n",
       "      <td>0.031860</td>\n",
       "      <td>0.034638</td>\n",
       "      <td>0.020853</td>\n",
       "      <td>0.050947</td>\n",
       "      <td>-0.018300</td>\n",
       "      <td>0.005155</td>\n",
       "      <td>0.009575</td>\n",
       "      <td>0.029565</td>\n",
       "      <td>0.030512</td>\n",
       "    </tr>\n",
       "    <tr>\n",
       "      <th>1</th>\n",
       "      <td>14</td>\n",
       "      <td>71</td>\n",
       "      <td>14</td>\n",
       "      <td>8</td>\n",
       "      <td>1</td>\n",
       "      <td>0</td>\n",
       "      <td>1</td>\n",
       "      <td>4.071429</td>\n",
       "      <td>1.000000</td>\n",
       "      <td>0.571429</td>\n",
       "      <td>...</td>\n",
       "      <td>0.019321</td>\n",
       "      <td>-0.028042</td>\n",
       "      <td>0.010259</td>\n",
       "      <td>-0.021186</td>\n",
       "      <td>0.022989</td>\n",
       "      <td>-0.056868</td>\n",
       "      <td>-0.016957</td>\n",
       "      <td>0.051687</td>\n",
       "      <td>0.015962</td>\n",
       "      <td>-0.006381</td>\n",
       "    </tr>\n",
       "    <tr>\n",
       "      <th>2</th>\n",
       "      <td>36</td>\n",
       "      <td>200</td>\n",
       "      <td>32</td>\n",
       "      <td>17</td>\n",
       "      <td>5</td>\n",
       "      <td>0</td>\n",
       "      <td>1</td>\n",
       "      <td>4.444444</td>\n",
       "      <td>0.888889</td>\n",
       "      <td>0.472222</td>\n",
       "      <td>...</td>\n",
       "      <td>0.003389</td>\n",
       "      <td>0.004377</td>\n",
       "      <td>0.003443</td>\n",
       "      <td>-0.001981</td>\n",
       "      <td>-0.001908</td>\n",
       "      <td>0.013497</td>\n",
       "      <td>-0.029306</td>\n",
       "      <td>-0.018776</td>\n",
       "      <td>0.010740</td>\n",
       "      <td>0.029868</td>\n",
       "    </tr>\n",
       "    <tr>\n",
       "      <th>3</th>\n",
       "      <td>34</td>\n",
       "      <td>206</td>\n",
       "      <td>31</td>\n",
       "      <td>13</td>\n",
       "      <td>4</td>\n",
       "      <td>0</td>\n",
       "      <td>4</td>\n",
       "      <td>4.970588</td>\n",
       "      <td>0.911765</td>\n",
       "      <td>0.382353</td>\n",
       "      <td>...</td>\n",
       "      <td>-0.000565</td>\n",
       "      <td>0.004395</td>\n",
       "      <td>-0.014305</td>\n",
       "      <td>-0.007202</td>\n",
       "      <td>0.005220</td>\n",
       "      <td>-0.012104</td>\n",
       "      <td>-0.016946</td>\n",
       "      <td>0.018283</td>\n",
       "      <td>-0.006900</td>\n",
       "      <td>-0.000147</td>\n",
       "    </tr>\n",
       "    <tr>\n",
       "      <th>4</th>\n",
       "      <td>27</td>\n",
       "      <td>174</td>\n",
       "      <td>25</td>\n",
       "      <td>11</td>\n",
       "      <td>4</td>\n",
       "      <td>0</td>\n",
       "      <td>2</td>\n",
       "      <td>5.333333</td>\n",
       "      <td>0.925926</td>\n",
       "      <td>0.407407</td>\n",
       "      <td>...</td>\n",
       "      <td>0.011465</td>\n",
       "      <td>-0.021699</td>\n",
       "      <td>-0.005379</td>\n",
       "      <td>0.025903</td>\n",
       "      <td>-0.027620</td>\n",
       "      <td>-0.016221</td>\n",
       "      <td>-0.007860</td>\n",
       "      <td>0.003379</td>\n",
       "      <td>-0.021110</td>\n",
       "      <td>-0.018357</td>\n",
       "    </tr>\n",
       "  </tbody>\n",
       "</table>\n",
       "<p>5 rows × 103 columns</p>\n",
       "</div>"
      ],
      "text/plain": [
       "   word_count  char_count  unique_word_count  stopwords_count  \\\n",
       "0          41         231                 35               20   \n",
       "1          14          71                 14                8   \n",
       "2          36         200                 32               17   \n",
       "3          34         206                 31               13   \n",
       "4          27         174                 25               11   \n",
       "\n",
       "   punctuations_count  word_upper_count  word_title_count  word_len_mean  \\\n",
       "0                   7                 2                 3       4.487805   \n",
       "1                   1                 0                 1       4.071429   \n",
       "2                   5                 0                 1       4.444444   \n",
       "3                   4                 0                 4       4.970588   \n",
       "4                   4                 0                 2       5.333333   \n",
       "\n",
       "   unique_word_fraction  stopwords_fraction     ...       svd_char_30  \\\n",
       "0              0.853659            0.487805     ...          0.009554   \n",
       "1              1.000000            0.571429     ...          0.019321   \n",
       "2              0.888889            0.472222     ...          0.003389   \n",
       "3              0.911765            0.382353     ...         -0.000565   \n",
       "4              0.925926            0.407407     ...          0.011465   \n",
       "\n",
       "   svd_char_31  svd_char_32  svd_char_33  svd_char_34  svd_char_35  \\\n",
       "0     0.031860     0.034638     0.020853     0.050947    -0.018300   \n",
       "1    -0.028042     0.010259    -0.021186     0.022989    -0.056868   \n",
       "2     0.004377     0.003443    -0.001981    -0.001908     0.013497   \n",
       "3     0.004395    -0.014305    -0.007202     0.005220    -0.012104   \n",
       "4    -0.021699    -0.005379     0.025903    -0.027620    -0.016221   \n",
       "\n",
       "   svd_char_36  svd_char_37  svd_char_38  svd_char_39  \n",
       "0     0.005155     0.009575     0.029565     0.030512  \n",
       "1    -0.016957     0.051687     0.015962    -0.006381  \n",
       "2    -0.029306    -0.018776     0.010740     0.029868  \n",
       "3    -0.016946     0.018283    -0.006900    -0.000147  \n",
       "4    -0.007860     0.003379    -0.021110    -0.018357  \n",
       "\n",
       "[5 rows x 103 columns]"
      ]
     },
     "execution_count": 40,
     "metadata": {},
     "output_type": "execute_result"
    }
   ],
   "source": [
    "# Prepare the data for modeling\n",
    "author_mapping_dict = {'EAP': 0, 'HPL': 1, 'MWS': 2}\n",
    "y_train = train['author'].map(author_mapping_dict)\n",
    "id_train = train['id'].values\n",
    "id_test = test['id'].values\n",
    "\n",
    "drop_elements = ['id', 'text']\n",
    "x_train = train.drop(drop_elements + ['author'], axis=1)\n",
    "x_test = test.drop(drop_elements, axis=1)\n",
    "\n",
    "print(x_train.shape, x_test.shape)\n",
    "x_train.head()"
   ]
  },
  {
   "cell_type": "code",
   "execution_count": 45,
   "metadata": {},
   "outputs": [
    {
     "name": "stdout",
     "output_type": "stream",
     "text": [
      "[0]\ttrain-mlogloss:1.00086\tvalid-mlogloss:1.00094\n",
      "Multiple eval metrics have been passed: 'valid-mlogloss' will be used for early stopping.\n",
      "\n",
      "Will train until valid-mlogloss hasn't improved in 50 rounds.\n",
      "[40]\ttrain-mlogloss:0.339983\tvalid-mlogloss:0.351783\n",
      "[80]\ttrain-mlogloss:0.295761\tvalid-mlogloss:0.325332\n",
      "[120]\ttrain-mlogloss:0.269102\tvalid-mlogloss:0.316032\n",
      "[160]\ttrain-mlogloss:0.249804\tvalid-mlogloss:0.311379\n",
      "[200]\ttrain-mlogloss:0.233042\tvalid-mlogloss:0.308395\n",
      "[240]\ttrain-mlogloss:0.218819\tvalid-mlogloss:0.306287\n",
      "[280]\ttrain-mlogloss:0.205933\tvalid-mlogloss:0.305558\n",
      "[320]\ttrain-mlogloss:0.193786\tvalid-mlogloss:0.305538\n",
      "[360]\ttrain-mlogloss:0.183181\tvalid-mlogloss:0.305225\n",
      "[400]\ttrain-mlogloss:0.172706\tvalid-mlogloss:0.305209\n",
      "[440]\ttrain-mlogloss:0.162876\tvalid-mlogloss:0.305145\n",
      "[480]\ttrain-mlogloss:0.153656\tvalid-mlogloss:0.305687\n",
      "Stopping. Best iteration:\n",
      "[430]\ttrain-mlogloss:0.165407\tvalid-mlogloss:0.304924\n",
      "\n"
     ]
    }
   ],
   "source": [
    "from sklearn.model_selection import train_test_split\n",
    "\n",
    "xtrain, xval, ytrain, yval = train_test_split(x_train.values, y_train, test_size=0.2, random_state=2017)\n",
    "dtrain = xgb.DMatrix(xtrain, label=ytrain)\n",
    "dval = xgb.DMatrix(xval, label=yval)\n",
    "dtest = xgb.DMatrix(x_test.values)\n",
    "watchlist = [(dtrain, 'train'), (dval, 'valid')]\n",
    "\n",
    "model = xgb.train(\n",
    "    xgb_param,\n",
    "    dtrain,\n",
    "    2000,\n",
    "    watchlist,\n",
    "    early_stopping_rounds=50,\n",
    "    maximize=False,\n",
    "    verbose_eval=40)"
   ]
  },
  {
   "cell_type": "code",
   "execution_count": 46,
   "metadata": {
    "scrolled": true
   },
   "outputs": [],
   "source": [
    "pred_y_test = model.predict(dtest, ntree_limit=model.best_ntree_limit)\n",
    "\n",
    "out_df = pd.DataFrame(pred_y_test)\n",
    "out_df.columns = ['EAP', 'HPL', 'MWS']\n",
    "out_df.insert(0, 'id', id_test)\n",
    "out_df.to_csv(\"../result/submission-20171124-01.csv\", index=False)"
   ]
  },
  {
   "cell_type": "code",
   "execution_count": 57,
   "metadata": {},
   "outputs": [
    {
     "data": {
      "image/png": "[encoded data removed]",
      "text/plain": [
       "<matplotlib.figure.Figure at 0x7f18227e1a90>"
      ]
     },
     "metadata": {},
     "output_type": "display_data"
    }
   ],
   "source": [
    "fig, ax = plt.subplots(figsize=(12, 8))\n",
    "#xgb.plot_importance(model, height=0.8, ax=ax)\n",
    "xgb.plot_importance(\n",
    "    dict(\n",
    "        sorted(model.get_fscore().items(), reverse=True, key=lambda x: x[1])\n",
    "        [:20]),\n",
    "    ax=ax,\n",
    "    height=0.8)\n",
    "plt.show()"
   ]
  }
 ],
 "metadata": {
  "kernelspec": {
   "display_name": "Python 3",
   "language": "python",
   "name": "python3"
  },
  "language_info": {
   "codemirror_mode": {
    "name": "ipython",
    "version": 3
   },
   "file_extension": ".py",
   "mimetype": "text/x-python",
   "name": "python",
   "nbconvert_exporter": "python",
   "pygments_lexer": "ipython3",
   "version": "3.6.2"
  },
  "toc": {
   "colors": {
    "hover_highlight": "#DAA520",
    "navigate_num": "#000000",
    "navigate_text": "#333333",
    "running_highlight": "#FF0000",
    "selected_highlight": "#FFD700",
    "sidebar_border": "#EEEEEE",
    "wrapper_background": "#FFFFFF"
   },
   "moveMenuLeft": true,
   "nav_menu": {
    "height": "12px",
    "width": "252px"
   },
   "navigate_menu": true,
   "number_sections": true,
   "sideBar": true,
   "threshold": 4,
   "toc_cell": false,
   "toc_position": {
    "height": "774px",
    "left": "0px",
    "right": "1521px",
    "top": "35px",
    "width": "299px"
   },
   "toc_section_display": "block",
   "toc_window_display": true,
   "widenNotebook": false
  },
  "varInspector": {
   "cols": {
    "lenName": 16,
    "lenType": 16,
    "lenVar": 40
   },
   "kernels_config": {
    "python": {
     "delete_cmd_postfix": "",
     "delete_cmd_prefix": "del ",
     "library": "var_list.py",
     "varRefreshCmd": "print(var_dic_list())"
    },
    "r": {
     "delete_cmd_postfix": ") ",
     "delete_cmd_prefix": "rm(",
     "library": "var_list.r",
     "varRefreshCmd": "cat(var_dic_list()) "
    }
   },
   "types_to_exclude": [
    "module",
    "function",
    "builtin_function_or_method",
    "instance",
    "_Feature"
   ],
   "window_display": false
  }
 },
 "nbformat": 4,
 "nbformat_minor": 2
}
