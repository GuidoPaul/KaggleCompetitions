{
 "cells": [
  {
   "cell_type": "markdown",
   "metadata": {},
   "source": [
    "# Load and check data"
   ]
  },
  {
   "cell_type": "code",
   "execution_count": 16,
   "metadata": {},
   "outputs": [],
   "source": [
    "import numpy as np\n",
    "import pandas as pd\n",
    "\n",
    "import seaborn as sns\n",
    "import matplotlib.pyplot as plt\n",
    "%matplotlib inline\n",
    "sns.set_style(\"whitegrid\")\n",
    "\n",
    "import nltk\n",
    "from sklearn.decomposition import TruncatedSVD\n",
    "from sklearn.feature_extraction.text import TfidfVectorizer, CountVectorizer\n",
    "\n",
    "import xgboost as xgb"
   ]
  },
  {
   "cell_type": "code",
   "execution_count": 26,
   "metadata": {},
   "outputs": [
    {
     "data": {
      "text/html": [
       "<div>\n",
       "<style scoped>\n",
       "    .dataframe tbody tr th:only-of-type {\n",
       "        vertical-align: middle;\n",
       "    }\n",
       "\n",
       "    .dataframe tbody tr th {\n",
       "        vertical-align: top;\n",
       "    }\n",
       "\n",
       "    .dataframe thead th {\n",
       "        text-align: right;\n",
       "    }\n",
       "</style>\n",
       "<table border=\"1\" class=\"dataframe\">\n",
       "  <thead>\n",
       "    <tr style=\"text-align: right;\">\n",
       "      <th></th>\n",
       "      <th>id</th>\n",
       "      <th>text</th>\n",
       "      <th>author</th>\n",
       "    </tr>\n",
       "  </thead>\n",
       "  <tbody>\n",
       "    <tr>\n",
       "      <th>0</th>\n",
       "      <td>id26305</td>\n",
       "      <td>This process, however, afforded me no means of...</td>\n",
       "      <td>EAP</td>\n",
       "    </tr>\n",
       "    <tr>\n",
       "      <th>1</th>\n",
       "      <td>id17569</td>\n",
       "      <td>It never once occurred to me that the fumbling...</td>\n",
       "      <td>HPL</td>\n",
       "    </tr>\n",
       "    <tr>\n",
       "      <th>2</th>\n",
       "      <td>id11008</td>\n",
       "      <td>In his left hand was a gold snuff box, from wh...</td>\n",
       "      <td>EAP</td>\n",
       "    </tr>\n",
       "    <tr>\n",
       "      <th>3</th>\n",
       "      <td>id27763</td>\n",
       "      <td>How lovely is spring As we looked from Windsor...</td>\n",
       "      <td>MWS</td>\n",
       "    </tr>\n",
       "    <tr>\n",
       "      <th>4</th>\n",
       "      <td>id12958</td>\n",
       "      <td>Finding nothing else, not even gold, the Super...</td>\n",
       "      <td>HPL</td>\n",
       "    </tr>\n",
       "  </tbody>\n",
       "</table>\n",
       "</div>"
      ],
      "text/plain": [
       "        id                                               text author\n",
       "0  id26305  This process, however, afforded me no means of...    EAP\n",
       "1  id17569  It never once occurred to me that the fumbling...    HPL\n",
       "2  id11008  In his left hand was a gold snuff box, from wh...    EAP\n",
       "3  id27763  How lovely is spring As we looked from Windsor...    MWS\n",
       "4  id12958  Finding nothing else, not even gold, the Super...    HPL"
      ]
     },
     "execution_count": 26,
     "metadata": {},
     "output_type": "execute_result"
    }
   ],
   "source": [
    "# Load in the train and test datasets\n",
    "train = pd.read_csv('../input/train.csv')\n",
    "test = pd.read_csv('../input/test.csv')\n",
    "\n",
    "full_data = [train, test]\n",
    "\n",
    "train.head()"
   ]
  },
  {
   "cell_type": "code",
   "execution_count": 5,
   "metadata": {},
   "outputs": [
    {
     "name": "stdout",
     "output_type": "stream",
     "text": [
      "Number of rows in train dataset 19579\n",
      "Number of rows in test dataset 8392\n",
      "No duplicates in train data\n",
      "No duplicates in test data\n",
      "Unique author is data ['EAP' 'HPL' 'MWS']\n",
      "Number of nulls in the train is 0 and text is 0\n"
     ]
    }
   ],
   "source": [
    "# Explore the dataset \n",
    "print(\"Number of rows in train dataset {}\".format(train.shape[0]))\n",
    "print(\"Number of rows in test dataset {}\".format(test.shape[0]))\n",
    "print(\"No duplicates in train data\") if train.shape[\n",
    "    0] == train.text.unique().__len__() else print(\"Oops\")\n",
    "print(\"No duplicates in test data\") if test.shape[\n",
    "    0] == test.text.unique().__len__() else print(\"Oops\")\n",
    "print(\"Unique author is data {}\".format(train.author.unique()))\n",
    "print(\"Number of nulls in the train is {} and text is {}\".format(\n",
    "    train.isnull().sum().sum(), test.isnull().sum().sum()))"
   ]
  },
  {
   "cell_type": "code",
   "execution_count": 6,
   "metadata": {},
   "outputs": [
    {
     "data": {
      "text/plain": [
       "<matplotlib.axes._subplots.AxesSubplot at 0x7f8928adeac8>"
      ]
     },
     "execution_count": 6,
     "metadata": {},
     "output_type": "execute_result"
    },
    {
     "data": {
      "image/png": "[encoded data removed]",
      "text/plain": [
       "<matplotlib.figure.Figure at 0x7f8928adea90>"
      ]
     },
     "metadata": {},
     "output_type": "display_data"
    }
   ],
   "source": [
    "z = {'EAP': 'Edgar Allen Poe', 'MWS': 'Mary Shelley', 'HPL': 'HP Lovecraft'}\n",
    "plt.figure(figsize=(16, 6))\n",
    "plt.title('Target variable distribution', fontsize=16)\n",
    "plt.ylabel('Number of Occurrences', fontsize=16)\n",
    "plt.xlabel('Author Name', fontsize=16)\n",
    "sns.barplot(\n",
    "    x=train.author.map(z).unique(), y=train.author.value_counts().values)"
   ]
  },
  {
   "cell_type": "code",
   "execution_count": 7,
   "metadata": {
    "scrolled": true
   },
   "outputs": [
    {
     "data": {
      "text/plain": [
       "<matplotlib.axes._subplots.AxesSubplot at 0x7f89201c5f28>"
      ]
     },
     "execution_count": 7,
     "metadata": {},
     "output_type": "execute_result"
    },
    {
     "data": {
      "image/png": "[encoded data removed]",
      "text/plain": [
       "<matplotlib.figure.Figure at 0x7f89201c5f98>"
      ]
     },
     "metadata": {},
     "output_type": "display_data"
    }
   ],
   "source": [
    "all_words = train['text'].str.split(expand=True).unstack().value_counts()\n",
    "plt.figure(figsize=(16, 6))\n",
    "plt.title('Top 20 (Uncleaned) Word frequencies in the training dataset')\n",
    "sns.barplot(x=all_words.index.values[:20], y=all_words.values[:20])"
   ]
  },
  {
   "cell_type": "markdown",
   "metadata": {},
   "source": [
    "# Wordclouds"
   ]
  },
  {
   "cell_type": "markdown",
   "metadata": {},
   "source": [
    "# Natural Language Processing"
   ]
  },
  {
   "cell_type": "markdown",
   "metadata": {},
   "source": [
    "## Tokenization"
   ]
  },
  {
   "cell_type": "code",
   "execution_count": 8,
   "metadata": {},
   "outputs": [
    {
     "name": "stdout",
     "output_type": "stream",
     "text": [
      "This process, however, afforded me no means of ascertaining the dimensions of my dungeon; as I might make its circuit, and return to the point whence I set out, without being aware of the fact; so perfectly uniform seemed the wall.\n",
      "==========================================================================================\n",
      "['This', 'process,', 'however,', 'afforded', 'me', 'no', 'means', 'of', 'ascertaining', 'the', 'dimensions', 'of', 'my', 'dungeon;', 'as', 'I', 'might', 'make', 'its', 'circuit,', 'and', 'return', 'to', 'the', 'point', 'whence', 'I', 'set', 'out,', 'without', 'being', 'aware', 'of', 'the', 'fact;', 'so', 'perfectly', 'uniform', 'seemed', 'the', 'wall.']\n"
     ]
    }
   ],
   "source": [
    "# Storing the first text element as a string\n",
    "first_text = train.text.values[0]\n",
    "print(first_text)\n",
    "print(\"=\"*90)\n",
    "print(first_text.split(\" \"))"
   ]
  },
  {
   "cell_type": "code",
   "execution_count": 9,
   "metadata": {},
   "outputs": [
    {
     "name": "stdout",
     "output_type": "stream",
     "text": [
      "['This', 'process', ',', 'however', ',', 'afforded', 'me', 'no', 'means', 'of', 'ascertaining', 'the', 'dimensions', 'of', 'my', 'dungeon', ';', 'as', 'I', 'might', 'make', 'its', 'circuit', ',', 'and', 'return', 'to', 'the', 'point', 'whence', 'I', 'set', 'out', ',', 'without', 'being', 'aware', 'of', 'the', 'fact', ';', 'so', 'perfectly', 'uniform', 'seemed', 'the', 'wall', '.']\n"
     ]
    }
   ],
   "source": [
    "first_text_list = nltk.word_tokenize(first_text)\n",
    "print(first_text_list)"
   ]
  },
  {
   "cell_type": "markdown",
   "metadata": {},
   "source": [
    "## Stopword Removal"
   ]
  },
  {
   "cell_type": "code",
   "execution_count": 10,
   "metadata": {},
   "outputs": [
    {
     "data": {
      "text/plain": [
       "153"
      ]
     },
     "execution_count": 10,
     "metadata": {},
     "output_type": "execute_result"
    }
   ],
   "source": [
    "stopwords = nltk.corpus.stopwords.words('english')\n",
    "len(stopwords)"
   ]
  },
  {
   "cell_type": "code",
   "execution_count": 11,
   "metadata": {
    "scrolled": true
   },
   "outputs": [
    {
     "name": "stdout",
     "output_type": "stream",
     "text": [
      "['process', ',', 'however', ',', 'afforded', 'means', 'ascertaining', 'dimensions', 'dungeon', ';', 'might', 'make', 'circuit', ',', 'return', 'point', 'whence', 'set', ',', 'without', 'aware', 'fact', ';', 'perfectly', 'uniform', 'seemed', 'wall', '.']\n",
      "==========================================================================================\n",
      "Length of original list: 48 words\n",
      "Length of list after stopwords removal: 28 words\n"
     ]
    }
   ],
   "source": [
    "first_text_list_cleaned = [\n",
    "    word for word in first_text_list if word.lower() not in stopwords\n",
    "]\n",
    "print(first_text_list_cleaned)\n",
    "print(\"=\" * 90)\n",
    "print(\"Length of original list: {} words\\n\"\n",
    "      \"Length of list after stopwords removal: {} words\".format(\n",
    "          len(first_text_list), len(first_text_list_cleaned)))"
   ]
  },
  {
   "cell_type": "markdown",
   "metadata": {},
   "source": [
    "## Stemming and Lemmatization"
   ]
  },
  {
   "cell_type": "code",
   "execution_count": 13,
   "metadata": {},
   "outputs": [
    {
     "name": "stdout",
     "output_type": "stream",
     "text": [
      "The stemmed form of running is: run\n",
      "The stemmed form of runs is: run\n",
      "The stemmed form of run is: run\n",
      "The stemmed form of leaves is: leav\n"
     ]
    }
   ],
   "source": [
    "stemmer = nltk.stem.PorterStemmer()\n",
    "print(\"The stemmed form of running is: {}\".format(stemmer.stem(\"running\")))\n",
    "print(\"The stemmed form of runs is: {}\".format(stemmer.stem(\"runs\")))\n",
    "print(\"The stemmed form of run is: {}\".format(stemmer.stem(\"run\")))\n",
    "\n",
    "print(\"The stemmed form of leaves is: {}\".format(stemmer.stem(\"leaves\")))"
   ]
  },
  {
   "cell_type": "code",
   "execution_count": 14,
   "metadata": {
    "scrolled": true
   },
   "outputs": [
    {
     "name": "stdout",
     "output_type": "stream",
     "text": [
      "The lemmatized form of leaves is: leaf\n"
     ]
    }
   ],
   "source": [
    "lemm =  nltk.stem.WordNetLemmatizer()\n",
    "print(\"The lemmatized form of leaves is: {}\".format(lemm.lemmatize(\"leaves\")))"
   ]
  },
  {
   "cell_type": "markdown",
   "metadata": {},
   "source": [
    "## Vectorizing Raw Text"
   ]
  },
  {
   "cell_type": "code",
   "execution_count": 15,
   "metadata": {},
   "outputs": [
    {
     "name": "stdout",
     "output_type": "stream",
     "text": [
      "The features are:\n",
      " ['burgers', 'eat', 'fries', 'love', 'to']\n",
      "\n",
      "The vectorized array looks like:\n",
      " [[1 1 0 1 1]\n",
      " [0 1 1 1 1]]\n"
     ]
    }
   ],
   "source": [
    "# Defining our sentence\n",
    "sentence = [\"I love to eat Burgers\", \"I love to eat Fries\"]\n",
    "# try CountVectorizer\n",
    "vectorizer = CountVectorizer(min_df=0)\n",
    "sentence_transform = vectorizer.fit_transform(sentence)\n",
    "\n",
    "print(\"The features are:\\n {}\".format(vectorizer.get_feature_names()))\n",
    "print(\"\\nThe vectorized array looks like:\\n {}\".format(\n",
    "    sentence_transform.toarray()))"
   ]
  },
  {
   "cell_type": "code",
   "execution_count": 17,
   "metadata": {
    "scrolled": true
   },
   "outputs": [
    {
     "name": "stdout",
     "output_type": "stream",
     "text": [
      "The features are:\n",
      " ['burgers', 'eat', 'fries', 'love', 'to']\n",
      "\n",
      "The vectorized array looks like:\n",
      " [[ 0.63009934  0.44832087  0.          0.44832087  0.44832087]\n",
      " [ 0.          0.44832087  0.63009934  0.44832087  0.44832087]]\n"
     ]
    }
   ],
   "source": [
    "sentence = [\"I love to eat Burgers\", \"I love to eat Fries\"]\n",
    "# try  TfidfVectorizer\n",
    "vectorizer = TfidfVectorizer(min_df=0)\n",
    "sentence_transform = vectorizer.fit_transform(sentence)\n",
    "\n",
    "print(\"The features are:\\n {}\".format(vectorizer.get_feature_names()))\n",
    "print(\"\\nThe vectorized array looks like:\\n {}\".format(\n",
    "    sentence_transform.toarray()))"
   ]
  },
  {
   "cell_type": "markdown",
   "metadata": {},
   "source": [
    "# Feature Engineering"
   ]
  },
  {
   "cell_type": "markdown",
   "metadata": {},
   "source": [
    "## some features"
   ]
  },
  {
   "cell_type": "code",
   "execution_count": 28,
   "metadata": {},
   "outputs": [],
   "source": [
    "# word count\n",
    "def word_count(raw):\n",
    "    return len(raw['text'].split())\n",
    "\n",
    "\n",
    "for dataset in full_data:\n",
    "    dataset['word_count'] = dataset.apply(lambda raw: word_count(raw), axis=1)"
   ]
  },
  {
   "cell_type": "code",
   "execution_count": 33,
   "metadata": {
    "scrolled": true
   },
   "outputs": [
    {
     "data": {
      "text/plain": [
       "<matplotlib.legend.Legend at 0x7f891f693860>"
      ]
     },
     "execution_count": 33,
     "metadata": {},
     "output_type": "execute_result"
    },
    {
     "data": {
      "image/png": "[encoded data removed]",
      "text/plain": [
       "<matplotlib.figure.Figure at 0x7f891f68a0f0>"
      ]
     },
     "metadata": {},
     "output_type": "display_data"
    }
   ],
   "source": [
    "fig, ax = plt.subplots(nrows=3, sharex=True, sharey=True, figsize=(14, 10))\n",
    "sns.distplot(\n",
    "    train.loc[train['author'] == 'EAP']['word_count'].values,\n",
    "    ax=ax[0],\n",
    "    color='blue',\n",
    "    label='Edgar Allan Poe')\n",
    "sns.distplot(\n",
    "    train.loc[train['author'] == 'MWS']['word_count'].values,\n",
    "    ax=ax[1],\n",
    "    color='green',\n",
    "    label='Mary Shelley')\n",
    "sns.distplot(\n",
    "    train.loc[train['author'] == 'HPL']['word_count'].values,\n",
    "    ax=ax[2],\n",
    "    color='red',\n",
    "    label='HP Lovecraft')\n",
    "ax[0].legend(loc=0)\n",
    "ax[1].legend(loc=0)\n",
    "ax[2].legend(loc=0)"
   ]
  },
  {
   "cell_type": "code",
   "execution_count": 37,
   "metadata": {
    "scrolled": false
   },
   "outputs": [
    {
     "data": {
      "text/html": [
       "<div>\n",
       "<style scoped>\n",
       "    .dataframe tbody tr th:only-of-type {\n",
       "        vertical-align: middle;\n",
       "    }\n",
       "\n",
       "    .dataframe tbody tr th {\n",
       "        vertical-align: top;\n",
       "    }\n",
       "\n",
       "    .dataframe thead th {\n",
       "        text-align: right;\n",
       "    }\n",
       "</style>\n",
       "<table border=\"1\" class=\"dataframe\">\n",
       "  <thead>\n",
       "    <tr style=\"text-align: right;\">\n",
       "      <th></th>\n",
       "      <th>id</th>\n",
       "      <th>text</th>\n",
       "      <th>author</th>\n",
       "      <th>word_count</th>\n",
       "    </tr>\n",
       "  </thead>\n",
       "  <tbody>\n",
       "    <tr>\n",
       "      <th>0</th>\n",
       "      <td>id26305</td>\n",
       "      <td>This process, however, afforded me no means of...</td>\n",
       "      <td>EAP</td>\n",
       "      <td>41</td>\n",
       "    </tr>\n",
       "    <tr>\n",
       "      <th>1</th>\n",
       "      <td>id17569</td>\n",
       "      <td>It never once occurred to me that the fumbling...</td>\n",
       "      <td>HPL</td>\n",
       "      <td>14</td>\n",
       "    </tr>\n",
       "    <tr>\n",
       "      <th>2</th>\n",
       "      <td>id11008</td>\n",
       "      <td>In his left hand was a gold snuff box, from wh...</td>\n",
       "      <td>EAP</td>\n",
       "      <td>36</td>\n",
       "    </tr>\n",
       "    <tr>\n",
       "      <th>3</th>\n",
       "      <td>id27763</td>\n",
       "      <td>How lovely is spring As we looked from Windsor...</td>\n",
       "      <td>MWS</td>\n",
       "      <td>34</td>\n",
       "    </tr>\n",
       "    <tr>\n",
       "      <th>4</th>\n",
       "      <td>id12958</td>\n",
       "      <td>Finding nothing else, not even gold, the Super...</td>\n",
       "      <td>HPL</td>\n",
       "      <td>27</td>\n",
       "    </tr>\n",
       "  </tbody>\n",
       "</table>\n",
       "</div>"
      ],
      "text/plain": [
       "        id                                               text author  \\\n",
       "0  id26305  This process, however, afforded me no means of...    EAP   \n",
       "1  id17569  It never once occurred to me that the fumbling...    HPL   \n",
       "2  id11008  In his left hand was a gold snuff box, from wh...    EAP   \n",
       "3  id27763  How lovely is spring As we looked from Windsor...    MWS   \n",
       "4  id12958  Finding nothing else, not even gold, the Super...    HPL   \n",
       "\n",
       "   word_count  \n",
       "0          41  \n",
       "1          14  \n",
       "2          36  \n",
       "3          34  \n",
       "4          27  "
      ]
     },
     "execution_count": 37,
     "metadata": {},
     "output_type": "execute_result"
    }
   ],
   "source": [
    "train.head()"
   ]
  },
  {
   "cell_type": "markdown",
   "metadata": {},
   "source": [
    "## Tf-idf features"
   ]
  },
  {
   "cell_type": "code",
   "execution_count": 25,
   "metadata": {},
   "outputs": [],
   "source": [
    "lemm = WordNetLemmatizer()\n",
    "class LemmCountVectorizer(CountVectorizer):\n",
    "    def build_analyzer(self):\n",
    "        analyzer = super(LemmCountVectorizer, self).build_analyzer()\n",
    "        return lambda doc: (lemm.lemmatize(w) for w in analyzer(doc))"
   ]
  },
  {
   "cell_type": "code",
   "execution_count": 27,
   "metadata": {
    "collapsed": true
   },
   "outputs": [],
   "source": [
    "# Storing the entire training text in a list\n",
    "text = list(train.text.values)\n",
    "# Calling our overwritten Count vectorizer\n",
    "tf_vectorizer = LemmCountVectorizer(\n",
    "    max_df=0.95, min_df=2, stop_words='english', decode_error='ignore')\n",
    "tf_train = tf_vectorizer.fit_transform(text)\n",
    "tf_test = tf_vectorizer.transform(text)"
   ]
  },
  {
   "cell_type": "code",
   "execution_count": 19,
   "metadata": {},
   "outputs": [],
   "source": [
    "tfidf_vectorizer = TfidfVectorizer(stop_words='english', ngram_range=(1, 3))\n",
    "full_tfidf = tfidf_vectorizer.fit_transform(train_df['text'].values.tolist() + test_df['text'].values.tolist())\n",
    "train_tfidf = tfidf_vectorizer.transform(train_df['text'].values.tolist())\n",
    "test_tfidf = tfidf_vectorizer.transform(test_df['text'].values.tolist())"
   ]
  },
  {
   "cell_type": "code",
   "execution_count": 21,
   "metadata": {},
   "outputs": [],
   "source": [
    "n_comp = 400\n",
    "svd_obj = TruncatedSVD(n_components=n_comp, algorithm='arpack')\n",
    "svd_obj.fit(full_tfidf)\n",
    "train_svd = pd.DataFrame(svd_obj.transform(train_tfidf))\n",
    "test_svd = pd.DataFrame(svd_obj.transform(test_tfidf))\n",
    "\n",
    "train_svd.columns = ['svd_word_'+str(i) for i in range(n_comp)]\n",
    "test_svd.columns = ['svd_word_'+str(i) for i in range(n_comp)]\n",
    "train_df = pd.concat([train_df, train_svd], axis=1)\n",
    "test_df = pd.concat([test_df, test_svd], axis=1)"
   ]
  },
  {
   "cell_type": "code",
   "execution_count": 24,
   "metadata": {},
   "outputs": [],
   "source": [
    "drop_elements = ['id', 'text']\n",
    "x_train = train_df.drop(drop_elements+['author'], axis=1)\n",
    "x_test = test_df.drop(drop_elements, axis=1)"
   ]
  },
  {
   "cell_type": "code",
   "execution_count": 27,
   "metadata": {},
   "outputs": [],
   "source": [
    "author_mapping_dict = {'EAP': 0, 'HPL': 1, 'MWS': 2}\n",
    "y_train = train_df['author'].map(author_mapping_dict)\n",
    "drop_elements = ['id', 'text']\n",
    "x_train = train_df.drop(drop_elements+['author'], axis=1)\n",
    "x_test = test_df.drop(drop_elements, axis=1)"
   ]
  },
  {
   "cell_type": "markdown",
   "metadata": {},
   "source": [
    "## sentiment features"
   ]
  },
  {
   "cell_type": "markdown",
   "metadata": {},
   "source": [
    "# Visualisations"
   ]
  },
  {
   "cell_type": "code",
   "execution_count": 39,
   "metadata": {},
   "outputs": [
    {
     "data": {
      "text/plain": [
       "<matplotlib.axes._subplots.AxesSubplot at 0x7f891fa331d0>"
      ]
     },
     "execution_count": 39,
     "metadata": {},
     "output_type": "execute_result"
    },
    {
     "data": {
      "image/png": "[encoded data removed]",
      "text/plain": [
       "<matplotlib.figure.Figure at 0x7f891fa332e8>"
      ]
     },
     "metadata": {},
     "output_type": "display_data"
    }
   ],
   "source": [
    "sns.violinplot(x = 'author', y='word_count', data=train)"
   ]
  },
  {
   "cell_type": "markdown",
   "metadata": {},
   "source": [
    "# Ensembling & Stacking models"
   ]
  },
  {
   "cell_type": "code",
   "execution_count": 28,
   "metadata": {},
   "outputs": [
    {
     "name": "stdout",
     "output_type": "stream",
     "text": [
      "[0]\ttrain-mlogloss:1.07908\tvalid-mlogloss:1.08099\n",
      "Multiple eval metrics have been passed: 'valid-mlogloss' will be used for early stopping.\n",
      "\n",
      "Will train until valid-mlogloss hasn't improved in 50 rounds.\n",
      "[40]\ttrain-mlogloss:0.8139\tvalid-mlogloss:0.850742\n",
      "[80]\ttrain-mlogloss:0.733194\tvalid-mlogloss:0.80073\n",
      "[120]\ttrain-mlogloss:0.677019\tvalid-mlogloss:0.769391\n",
      "[160]\ttrain-mlogloss:0.632259\tvalid-mlogloss:0.747799\n",
      "[200]\ttrain-mlogloss:0.594561\tvalid-mlogloss:0.731481\n",
      "[240]\ttrain-mlogloss:0.5625\tvalid-mlogloss:0.718198\n",
      "[280]\ttrain-mlogloss:0.534187\tvalid-mlogloss:0.708329\n",
      "[320]\ttrain-mlogloss:0.508837\tvalid-mlogloss:0.700673\n",
      "[360]\ttrain-mlogloss:0.486059\tvalid-mlogloss:0.693733\n",
      "[400]\ttrain-mlogloss:0.46472\tvalid-mlogloss:0.687603\n",
      "[440]\ttrain-mlogloss:0.444816\tvalid-mlogloss:0.683617\n",
      "[480]\ttrain-mlogloss:0.426283\tvalid-mlogloss:0.679644\n",
      "[520]\ttrain-mlogloss:0.409511\tvalid-mlogloss:0.674964\n",
      "[560]\ttrain-mlogloss:0.392947\tvalid-mlogloss:0.671667\n",
      "[600]\ttrain-mlogloss:0.377694\tvalid-mlogloss:0.668918\n",
      "[640]\ttrain-mlogloss:0.363212\tvalid-mlogloss:0.667551\n",
      "[680]\ttrain-mlogloss:0.349695\tvalid-mlogloss:0.665275\n",
      "[720]\ttrain-mlogloss:0.336531\tvalid-mlogloss:0.663593\n",
      "[760]\ttrain-mlogloss:0.324406\tvalid-mlogloss:0.662513\n",
      "[800]\ttrain-mlogloss:0.312474\tvalid-mlogloss:0.661161\n",
      "[840]\ttrain-mlogloss:0.301357\tvalid-mlogloss:0.659414\n",
      "[880]\ttrain-mlogloss:0.290264\tvalid-mlogloss:0.658249\n",
      "[920]\ttrain-mlogloss:0.279788\tvalid-mlogloss:0.657278\n",
      "[960]\ttrain-mlogloss:0.269568\tvalid-mlogloss:0.656323\n",
      "Modeling RMSLE 0.65491\n"
     ]
    }
   ],
   "source": [
    "from sklearn.model_selection import train_test_split\n",
    "xtr, xv, ytr, yv = train_test_split(\n",
    "    x_train.values, y_train, test_size=0.2, random_state=1987)\n",
    "dtrain = xgb.DMatrix(xtr, label=ytr)\n",
    "dvalid = xgb.DMatrix(xv, label=yv)\n",
    "dtest = xgb.DMatrix(test_X.values)\n",
    "watchlist = [(dtrain, 'train'), (dvalid, 'valid')]\n",
    "\n",
    "xgb_par = {\n",
    "    'min_child_weight': 1,\n",
    "    'eta': 0.1,\n",
    "    'colsample_bytree': 0.7,\n",
    "    'max_depth': 3,\n",
    "    'subsample': 0.8,\n",
    "    'lambda': 2.0,\n",
    "    'nthread': -1,\n",
    "    'silent': 1,\n",
    "    'eval_metric': \"mlogloss\",\n",
    "    'objective': 'multi:softprob',\n",
    "    'num_class': 3\n",
    "}\n",
    "\n",
    "model_1 = xgb.train(\n",
    "    xgb_par,\n",
    "    dtrain,\n",
    "    1000,\n",
    "    watchlist,\n",
    "    early_stopping_rounds=50,\n",
    "    maximize=False,\n",
    "    verbose_eval=40)\n",
    "print('Modeling RMSLE %.5f' % model_1.best_score)"
   ]
  },
  {
   "cell_type": "code",
   "execution_count": 29,
   "metadata": {},
   "outputs": [],
   "source": [
    "yvalid = model_1.predict(dvalid)\n",
    "ytest = model_1.predict(dtest)"
   ]
  },
  {
   "cell_type": "code",
   "execution_count": 31,
   "metadata": {},
   "outputs": [
    {
     "name": "stdout",
     "output_type": "stream",
     "text": [
      "Test shape OK.\n"
     ]
    }
   ],
   "source": [
    "if test_df.shape[0] == ytest.shape[0]:\n",
    "    print('Test shape OK.') \n",
    "test_id = test_df['id'].values\n",
    "out_df = pd.DataFrame(ytest)\n",
    "out_df.columns = ['EAP', 'HPL', 'MWS']\n",
    "out_df.insert(0, 'id', test_id)\n",
    "out_df.to_csv(\"../result/submission-20171121-01.csv\", index=False)"
   ]
  }
 ],
 "metadata": {
  "kernelspec": {
   "display_name": "Python 3",
   "language": "python",
   "name": "python3"
  },
  "language_info": {
   "codemirror_mode": {
    "name": "ipython",
    "version": 3
   },
   "file_extension": ".py",
   "mimetype": "text/x-python",
   "name": "python",
   "nbconvert_exporter": "python",
   "pygments_lexer": "ipython3",
   "version": "3.6.2"
  },
  "toc": {
   "colors": {
    "hover_highlight": "#DAA520",
    "navigate_num": "#000000",
    "navigate_text": "#333333",
    "running_highlight": "#FF0000",
    "selected_highlight": "#FFD700",
    "sidebar_border": "#EEEEEE",
    "wrapper_background": "#FFFFFF"
   },
   "moveMenuLeft": true,
   "nav_menu": {
    "height": "12px",
    "width": "252px"
   },
   "navigate_menu": true,
   "number_sections": true,
   "sideBar": true,
   "threshold": 4,
   "toc_cell": false,
   "toc_position": {
    "height": "826px",
    "left": "0px",
    "right": "1521px",
    "top": "111px",
    "width": "397px"
   },
   "toc_section_display": "block",
   "toc_window_display": true,
   "widenNotebook": false
  },
  "varInspector": {
   "cols": {
    "lenName": 16,
    "lenType": 16,
    "lenVar": 40
   },
   "kernels_config": {
    "python": {
     "delete_cmd_postfix": "",
     "delete_cmd_prefix": "del ",
     "library": "var_list.py",
     "varRefreshCmd": "print(var_dic_list())"
    },
    "r": {
     "delete_cmd_postfix": ") ",
     "delete_cmd_prefix": "rm(",
     "library": "var_list.r",
     "varRefreshCmd": "cat(var_dic_list()) "
    }
   },
   "types_to_exclude": [
    "module",
    "function",
    "builtin_function_or_method",
    "instance",
    "_Feature"
   ],
   "window_display": false
  }
 },
 "nbformat": 4,
 "nbformat_minor": 2
}
