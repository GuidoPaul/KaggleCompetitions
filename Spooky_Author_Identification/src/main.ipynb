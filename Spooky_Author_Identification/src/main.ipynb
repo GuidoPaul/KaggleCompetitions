{
 "cells": [
  {
   "cell_type": "markdown",
   "metadata": {},
   "source": [
    "# Load and check data"
   ]
  },
  {
   "cell_type": "code",
   "execution_count": 1,
   "metadata": {},
   "outputs": [
    {
     "name": "stderr",
     "output_type": "stream",
     "text": [
      "/home/guido/.conda/envs/dl/lib/python3.6/site-packages/sklearn/cross_validation.py:41: DeprecationWarning: This module was deprecated in version 0.18 in favor of the model_selection module into which all the refactored classes and functions are moved. Also note that the interface of the new CV iterators are different from that of this module. This module will be removed in 0.20.\n",
      "  \"This module will be removed in 0.20.\", DeprecationWarning)\n"
     ]
    }
   ],
   "source": [
    "import time\n",
    "import numpy as np\n",
    "import pandas as pd\n",
    "\n",
    "import seaborn as sns\n",
    "import matplotlib.pyplot as plt\n",
    "%matplotlib inline\n",
    "sns.set_style(\"whitegrid\")\n",
    "\n",
    "import nltk\n",
    "\n",
    "from sklearn import metrics, model_selection, naive_bayes\n",
    "from sklearn.decomposition import TruncatedSVD, LatentDirichletAllocation\n",
    "from sklearn.feature_extraction.text import TfidfVectorizer, CountVectorizer\n",
    "from sklearn.pipeline import make_pipeline\n",
    "from sklearn.preprocessing import Normalizer\n",
    "\n",
    "import xgboost as xgb"
   ]
  },
  {
   "cell_type": "code",
   "execution_count": 2,
   "metadata": {},
   "outputs": [
    {
     "data": {
      "text/html": [
       "<div>\n",
       "<style scoped>\n",
       "    .dataframe tbody tr th:only-of-type {\n",
       "        vertical-align: middle;\n",
       "    }\n",
       "\n",
       "    .dataframe tbody tr th {\n",
       "        vertical-align: top;\n",
       "    }\n",
       "\n",
       "    .dataframe thead th {\n",
       "        text-align: right;\n",
       "    }\n",
       "</style>\n",
       "<table border=\"1\" class=\"dataframe\">\n",
       "  <thead>\n",
       "    <tr style=\"text-align: right;\">\n",
       "      <th></th>\n",
       "      <th>id</th>\n",
       "      <th>text</th>\n",
       "      <th>author</th>\n",
       "    </tr>\n",
       "  </thead>\n",
       "  <tbody>\n",
       "    <tr>\n",
       "      <th>0</th>\n",
       "      <td>id26305</td>\n",
       "      <td>This process, however, afforded me no means of...</td>\n",
       "      <td>EAP</td>\n",
       "    </tr>\n",
       "    <tr>\n",
       "      <th>1</th>\n",
       "      <td>id17569</td>\n",
       "      <td>It never once occurred to me that the fumbling...</td>\n",
       "      <td>HPL</td>\n",
       "    </tr>\n",
       "    <tr>\n",
       "      <th>2</th>\n",
       "      <td>id11008</td>\n",
       "      <td>In his left hand was a gold snuff box, from wh...</td>\n",
       "      <td>EAP</td>\n",
       "    </tr>\n",
       "    <tr>\n",
       "      <th>3</th>\n",
       "      <td>id27763</td>\n",
       "      <td>How lovely is spring As we looked from Windsor...</td>\n",
       "      <td>MWS</td>\n",
       "    </tr>\n",
       "    <tr>\n",
       "      <th>4</th>\n",
       "      <td>id12958</td>\n",
       "      <td>Finding nothing else, not even gold, the Super...</td>\n",
       "      <td>HPL</td>\n",
       "    </tr>\n",
       "  </tbody>\n",
       "</table>\n",
       "</div>"
      ],
      "text/plain": [
       "        id                                               text author\n",
       "0  id26305  This process, however, afforded me no means of...    EAP\n",
       "1  id17569  It never once occurred to me that the fumbling...    HPL\n",
       "2  id11008  In his left hand was a gold snuff box, from wh...    EAP\n",
       "3  id27763  How lovely is spring As we looked from Windsor...    MWS\n",
       "4  id12958  Finding nothing else, not even gold, the Super...    HPL"
      ]
     },
     "execution_count": 2,
     "metadata": {},
     "output_type": "execute_result"
    }
   ],
   "source": [
    "# Load in the train and test datasets\n",
    "train = pd.read_csv('../input/train.csv')\n",
    "test = pd.read_csv('../input/test.csv')\n",
    "\n",
    "full_data = [train, test]\n",
    "\n",
    "train.head()"
   ]
  },
  {
   "cell_type": "code",
   "execution_count": 3,
   "metadata": {},
   "outputs": [
    {
     "name": "stdout",
     "output_type": "stream",
     "text": [
      "Number of rows in train dataset 19579\n",
      "Number of rows in test dataset 8392\n",
      "No duplicates in train data\n",
      "No duplicates in test data\n",
      "Unique author is data ['EAP' 'HPL' 'MWS']\n",
      "Number of nulls in the train is 0 and text is 0\n"
     ]
    }
   ],
   "source": [
    "# Explore the dataset \n",
    "print(\"Number of rows in train dataset {}\".format(train.shape[0]))\n",
    "print(\"Number of rows in test dataset {}\".format(test.shape[0]))\n",
    "print(\"No duplicates in train data\") if train.shape[\n",
    "    0] == train.text.unique().__len__() else print(\"Oops\")\n",
    "print(\"No duplicates in test data\") if test.shape[\n",
    "    0] == test.text.unique().__len__() else print(\"Oops\")\n",
    "print(\"Unique author is data {}\".format(train.author.unique()))\n",
    "print(\"Number of nulls in the train is {} and text is {}\".format(\n",
    "    train.isnull().sum().sum(), test.isnull().sum().sum()))"
   ]
  },
  {
   "cell_type": "code",
   "execution_count": 4,
   "metadata": {},
   "outputs": [
    {
     "data": {
      "text/plain": [
       "<matplotlib.axes._subplots.AxesSubplot at 0x7f4920fa1748>"
      ]
     },
     "execution_count": 4,
     "metadata": {},
     "output_type": "execute_result"
    },
    {
     "data": {
      "image/png": "[encoded data removed]",
      "text/plain": [
       "<matplotlib.figure.Figure at 0x7f4920fa13c8>"
      ]
     },
     "metadata": {},
     "output_type": "display_data"
    }
   ],
   "source": [
    "z = {'EAP': 'Edgar Allen Poe', 'MWS': 'Mary Shelley', 'HPL': 'HP Lovecraft'}\n",
    "plt.figure(figsize=(16, 6))\n",
    "plt.title('Target variable distribution', fontsize=16)\n",
    "plt.ylabel('Number of Occurrences', fontsize=16)\n",
    "plt.xlabel('Author Name', fontsize=16)\n",
    "sns.barplot(\n",
    "    x=train.author.map(z).unique(), y=train.author.value_counts().values)"
   ]
  },
  {
   "cell_type": "code",
   "execution_count": 5,
   "metadata": {
    "scrolled": true
   },
   "outputs": [
    {
     "data": {
      "text/plain": [
       "<matplotlib.axes._subplots.AxesSubplot at 0x7f49198a9f28>"
      ]
     },
     "execution_count": 5,
     "metadata": {},
     "output_type": "execute_result"
    },
    {
     "data": {
      "image/png": "[encoded data removed]",
      "text/plain": [
       "<matplotlib.figure.Figure at 0x7f49198a9f98>"
      ]
     },
     "metadata": {},
     "output_type": "display_data"
    }
   ],
   "source": [
    "all_words = train['text'].str.split(expand=True).unstack().value_counts()\n",
    "plt.figure(figsize=(16, 6))\n",
    "plt.title('Top 20 (Uncleaned) Word frequencies in the training dataset')\n",
    "sns.barplot(x=all_words.index.values[:20], y=all_words.values[:20])"
   ]
  },
  {
   "cell_type": "markdown",
   "metadata": {},
   "source": [
    "# Wordclouds"
   ]
  },
  {
   "cell_type": "markdown",
   "metadata": {},
   "source": [
    "# Natural Language Processing"
   ]
  },
  {
   "cell_type": "markdown",
   "metadata": {},
   "source": [
    "## Tokenization"
   ]
  },
  {
   "cell_type": "code",
   "execution_count": 6,
   "metadata": {},
   "outputs": [
    {
     "name": "stdout",
     "output_type": "stream",
     "text": [
      "This process, however, afforded me no means of ascertaining the dimensions of my dungeon; as I might make its circuit, and return to the point whence I set out, without being aware of the fact; so perfectly uniform seemed the wall.\n",
      "==========================================================================================\n",
      "['This', 'process,', 'however,', 'afforded', 'me', 'no', 'means', 'of', 'ascertaining', 'the', 'dimensions', 'of', 'my', 'dungeon;', 'as', 'I', 'might', 'make', 'its', 'circuit,', 'and', 'return', 'to', 'the', 'point', 'whence', 'I', 'set', 'out,', 'without', 'being', 'aware', 'of', 'the', 'fact;', 'so', 'perfectly', 'uniform', 'seemed', 'the', 'wall.']\n"
     ]
    }
   ],
   "source": [
    "# Storing the first text element as a string\n",
    "first_text = train.text.values[0]\n",
    "print(first_text)\n",
    "print(\"=\"*90)\n",
    "print(first_text.split(\" \"))"
   ]
  },
  {
   "cell_type": "code",
   "execution_count": 7,
   "metadata": {},
   "outputs": [
    {
     "name": "stdout",
     "output_type": "stream",
     "text": [
      "['This', 'process', ',', 'however', ',', 'afforded', 'me', 'no', 'means', 'of', 'ascertaining', 'the', 'dimensions', 'of', 'my', 'dungeon', ';', 'as', 'I', 'might', 'make', 'its', 'circuit', ',', 'and', 'return', 'to', 'the', 'point', 'whence', 'I', 'set', 'out', ',', 'without', 'being', 'aware', 'of', 'the', 'fact', ';', 'so', 'perfectly', 'uniform', 'seemed', 'the', 'wall', '.']\n"
     ]
    }
   ],
   "source": [
    "first_text_list = nltk.word_tokenize(first_text)\n",
    "print(first_text_list)"
   ]
  },
  {
   "cell_type": "markdown",
   "metadata": {},
   "source": [
    "## Stopword Removal"
   ]
  },
  {
   "cell_type": "code",
   "execution_count": 8,
   "metadata": {},
   "outputs": [
    {
     "data": {
      "text/plain": [
       "153"
      ]
     },
     "execution_count": 8,
     "metadata": {},
     "output_type": "execute_result"
    }
   ],
   "source": [
    "stopwords = nltk.corpus.stopwords.words('english')\n",
    "len(stopwords)"
   ]
  },
  {
   "cell_type": "code",
   "execution_count": 9,
   "metadata": {
    "scrolled": true
   },
   "outputs": [
    {
     "name": "stdout",
     "output_type": "stream",
     "text": [
      "['process', ',', 'however', ',', 'afforded', 'means', 'ascertaining', 'dimensions', 'dungeon', ';', 'might', 'make', 'circuit', ',', 'return', 'point', 'whence', 'set', ',', 'without', 'aware', 'fact', ';', 'perfectly', 'uniform', 'seemed', 'wall', '.']\n",
      "==========================================================================================\n",
      "Length of original list: 48 words\n",
      "Length of list after stopwords removal: 28 words\n"
     ]
    }
   ],
   "source": [
    "first_text_list_cleaned = [\n",
    "    word for word in first_text_list if word.lower() not in stopwords\n",
    "]\n",
    "print(first_text_list_cleaned)\n",
    "print(\"=\" * 90)\n",
    "print(\"Length of original list: {} words\\n\"\n",
    "      \"Length of list after stopwords removal: {} words\".format(\n",
    "          len(first_text_list), len(first_text_list_cleaned)))"
   ]
  },
  {
   "cell_type": "markdown",
   "metadata": {},
   "source": [
    "## Stemming and Lemmatization"
   ]
  },
  {
   "cell_type": "code",
   "execution_count": 10,
   "metadata": {},
   "outputs": [
    {
     "name": "stdout",
     "output_type": "stream",
     "text": [
      "The stemmed form of running is: run\n",
      "The stemmed form of runs is: run\n",
      "The stemmed form of run is: run\n",
      "The stemmed form of leaves is: leav\n"
     ]
    }
   ],
   "source": [
    "stemmer = nltk.stem.PorterStemmer()\n",
    "print(\"The stemmed form of running is: {}\".format(stemmer.stem(\"running\")))\n",
    "print(\"The stemmed form of runs is: {}\".format(stemmer.stem(\"runs\")))\n",
    "print(\"The stemmed form of run is: {}\".format(stemmer.stem(\"run\")))\n",
    "\n",
    "print(\"The stemmed form of leaves is: {}\".format(stemmer.stem(\"leaves\")))"
   ]
  },
  {
   "cell_type": "code",
   "execution_count": 11,
   "metadata": {
    "scrolled": true
   },
   "outputs": [
    {
     "name": "stdout",
     "output_type": "stream",
     "text": [
      "The lemmatized form of leaves is: leaf\n"
     ]
    }
   ],
   "source": [
    "lemm =  nltk.stem.WordNetLemmatizer()\n",
    "print(\"The lemmatized form of leaves is: {}\".format(lemm.lemmatize(\"leaves\")))"
   ]
  },
  {
   "cell_type": "markdown",
   "metadata": {},
   "source": [
    "## Vectorizing Raw Text"
   ]
  },
  {
   "cell_type": "code",
   "execution_count": 12,
   "metadata": {},
   "outputs": [
    {
     "name": "stdout",
     "output_type": "stream",
     "text": [
      "The features are:\n",
      " ['burgers', 'eat', 'fries', 'love', 'to']\n",
      "\n",
      "The vectorized array looks like:\n",
      " [[1 1 0 1 1]\n",
      " [0 1 1 1 1]]\n"
     ]
    }
   ],
   "source": [
    "# Defining our sentence\n",
    "sentence = [\"I love to eat Burgers\", \"I love to eat Fries\"]\n",
    "# try CountVectorizer\n",
    "vectorizer = CountVectorizer(min_df=0)\n",
    "sentence_transform = vectorizer.fit_transform(sentence)\n",
    "\n",
    "print(\"The features are:\\n {}\".format(vectorizer.get_feature_names()))\n",
    "print(\"\\nThe vectorized array looks like:\\n {}\".format(\n",
    "    sentence_transform.toarray()))"
   ]
  },
  {
   "cell_type": "code",
   "execution_count": 13,
   "metadata": {
    "scrolled": true
   },
   "outputs": [
    {
     "name": "stdout",
     "output_type": "stream",
     "text": [
      "The features are:\n",
      " ['burgers', 'eat', 'fries', 'love', 'to']\n",
      "\n",
      "The vectorized array looks like:\n",
      " [[ 0.63009934  0.44832087  0.          0.44832087  0.44832087]\n",
      " [ 0.          0.44832087  0.63009934  0.44832087  0.44832087]]\n"
     ]
    }
   ],
   "source": [
    "sentence = [\"I love to eat Burgers\", \"I love to eat Fries\"]\n",
    "# try  TfidfVectorizer\n",
    "vectorizer = TfidfVectorizer(min_df=0)\n",
    "sentence_transform = vectorizer.fit_transform(sentence)\n",
    "\n",
    "print(\"The features are:\\n {}\".format(vectorizer.get_feature_names()))\n",
    "print(\"\\nThe vectorized array looks like:\\n {}\".format(\n",
    "    sentence_transform.toarray()))"
   ]
  },
  {
   "cell_type": "markdown",
   "metadata": {},
   "source": [
    "# Feature Engineering"
   ]
  },
  {
   "cell_type": "markdown",
   "metadata": {},
   "source": [
    "## some features"
   ]
  },
  {
   "cell_type": "code",
   "execution_count": 14,
   "metadata": {},
   "outputs": [],
   "source": [
    "import string\n",
    "\n",
    "\n",
    "def word_count(raw):\n",
    "    return len(raw['text'].split())\n",
    "\n",
    "\n",
    "def char_count(raw):\n",
    "    return len(raw['text'])\n",
    "\n",
    "\n",
    "def unique_word_fraction(raw):\n",
    "    text = raw['text'].lower()\n",
    "    tokenizer = nltk.tokenize.RegexpTokenizer(r'\\w+')\n",
    "    text_list = tokenizer.tokenize(text)\n",
    "\n",
    "    unique_word_count = len(list(set(text_list)))\n",
    "    word_count = len(text_list)\n",
    "    return unique_word_count / word_count\n",
    "\n",
    "\n",
    "def stopwords_count(raw):\n",
    "    text = raw['text'].lower()\n",
    "    tokenizer = nltk.tokenize.RegexpTokenizer(r'\\w+')\n",
    "    text_list = tokenizer.tokenize(text)\n",
    "\n",
    "    stopwords = nltk.corpus.stopwords.words('english')\n",
    "\n",
    "    stopwords_count = len([w for w in text_list if w in stopwords])\n",
    "    word_count = len(text_list)\n",
    "    return stopwords_count / word_count\n",
    "\n",
    "\n",
    "def punctuations_fraction(raw):\n",
    "    text = raw['text'].lower()\n",
    "    text_list = nltk.word_tokenize(text)\n",
    "\n",
    "    punctuation_count = len([w for w in text_list if w in string.punctuation])\n",
    "    char_count = len(text)\n",
    "    return punctuation_count / char_count"
   ]
  },
  {
   "cell_type": "code",
   "execution_count": 15,
   "metadata": {},
   "outputs": [],
   "source": [
    "for dataset in full_data:\n",
    "    dataset['word_count'] = dataset.apply(lambda raw: word_count(raw), axis=1)\n",
    "    dataset['char_count'] = dataset.apply(lambda raw: char_count(raw), axis=1)\n",
    "    dataset['unique_word_fraction'] = dataset.apply(lambda raw: unique_word_fraction(raw), axis=1)\n",
    "    dataset['stopwords_count'] = dataset.apply(lambda raw: stopwords_count(raw), axis=1)\n",
    "    dataset['punctuations_fraction'] = dataset.apply(lambda raw: punctuations_fraction(raw), axis=1)"
   ]
  },
  {
   "cell_type": "code",
   "execution_count": 16,
   "metadata": {
    "scrolled": true
   },
   "outputs": [
    {
     "name": "stdout",
     "output_type": "stream",
     "text": [
      "(19579, 8) (8392, 7)\n"
     ]
    },
    {
     "data": {
      "text/html": [
       "<div>\n",
       "<style scoped>\n",
       "    .dataframe tbody tr th:only-of-type {\n",
       "        vertical-align: middle;\n",
       "    }\n",
       "\n",
       "    .dataframe tbody tr th {\n",
       "        vertical-align: top;\n",
       "    }\n",
       "\n",
       "    .dataframe thead th {\n",
       "        text-align: right;\n",
       "    }\n",
       "</style>\n",
       "<table border=\"1\" class=\"dataframe\">\n",
       "  <thead>\n",
       "    <tr style=\"text-align: right;\">\n",
       "      <th></th>\n",
       "      <th>id</th>\n",
       "      <th>text</th>\n",
       "      <th>author</th>\n",
       "      <th>word_count</th>\n",
       "      <th>char_count</th>\n",
       "      <th>unique_word_fraction</th>\n",
       "      <th>stopwords_count</th>\n",
       "      <th>punctuations_fraction</th>\n",
       "    </tr>\n",
       "  </thead>\n",
       "  <tbody>\n",
       "    <tr>\n",
       "      <th>0</th>\n",
       "      <td>id26305</td>\n",
       "      <td>This process, however, afforded me no means of...</td>\n",
       "      <td>EAP</td>\n",
       "      <td>41</td>\n",
       "      <td>231</td>\n",
       "      <td>0.853659</td>\n",
       "      <td>0.487805</td>\n",
       "      <td>0.030303</td>\n",
       "    </tr>\n",
       "    <tr>\n",
       "      <th>1</th>\n",
       "      <td>id17569</td>\n",
       "      <td>It never once occurred to me that the fumbling...</td>\n",
       "      <td>HPL</td>\n",
       "      <td>14</td>\n",
       "      <td>71</td>\n",
       "      <td>1.000000</td>\n",
       "      <td>0.571429</td>\n",
       "      <td>0.014085</td>\n",
       "    </tr>\n",
       "    <tr>\n",
       "      <th>2</th>\n",
       "      <td>id11008</td>\n",
       "      <td>In his left hand was a gold snuff box, from wh...</td>\n",
       "      <td>EAP</td>\n",
       "      <td>36</td>\n",
       "      <td>200</td>\n",
       "      <td>0.888889</td>\n",
       "      <td>0.472222</td>\n",
       "      <td>0.025000</td>\n",
       "    </tr>\n",
       "    <tr>\n",
       "      <th>3</th>\n",
       "      <td>id27763</td>\n",
       "      <td>How lovely is spring As we looked from Windsor...</td>\n",
       "      <td>MWS</td>\n",
       "      <td>34</td>\n",
       "      <td>206</td>\n",
       "      <td>0.911765</td>\n",
       "      <td>0.382353</td>\n",
       "      <td>0.019417</td>\n",
       "    </tr>\n",
       "    <tr>\n",
       "      <th>4</th>\n",
       "      <td>id12958</td>\n",
       "      <td>Finding nothing else, not even gold, the Super...</td>\n",
       "      <td>HPL</td>\n",
       "      <td>27</td>\n",
       "      <td>174</td>\n",
       "      <td>0.925926</td>\n",
       "      <td>0.407407</td>\n",
       "      <td>0.022989</td>\n",
       "    </tr>\n",
       "  </tbody>\n",
       "</table>\n",
       "</div>"
      ],
      "text/plain": [
       "        id                                               text author  \\\n",
       "0  id26305  This process, however, afforded me no means of...    EAP   \n",
       "1  id17569  It never once occurred to me that the fumbling...    HPL   \n",
       "2  id11008  In his left hand was a gold snuff box, from wh...    EAP   \n",
       "3  id27763  How lovely is spring As we looked from Windsor...    MWS   \n",
       "4  id12958  Finding nothing else, not even gold, the Super...    HPL   \n",
       "\n",
       "   word_count  char_count  unique_word_fraction  stopwords_count  \\\n",
       "0          41         231              0.853659         0.487805   \n",
       "1          14          71              1.000000         0.571429   \n",
       "2          36         200              0.888889         0.472222   \n",
       "3          34         206              0.911765         0.382353   \n",
       "4          27         174              0.925926         0.407407   \n",
       "\n",
       "   punctuations_fraction  \n",
       "0               0.030303  \n",
       "1               0.014085  \n",
       "2               0.025000  \n",
       "3               0.019417  \n",
       "4               0.022989  "
      ]
     },
     "execution_count": 16,
     "metadata": {},
     "output_type": "execute_result"
    }
   ],
   "source": [
    "print(train.shape, test.shape)\n",
    "train.head()"
   ]
  },
  {
   "cell_type": "code",
   "execution_count": 17,
   "metadata": {
    "scrolled": true
   },
   "outputs": [
    {
     "data": {
      "text/plain": [
       "<matplotlib.legend.Legend at 0x7f4918ab33c8>"
      ]
     },
     "execution_count": 17,
     "metadata": {},
     "output_type": "execute_result"
    },
    {
     "data": {
      "image/png": "[encoded data removed]",
      "text/plain": [
       "<matplotlib.figure.Figure at 0x7f4918a02080>"
      ]
     },
     "metadata": {},
     "output_type": "display_data"
    }
   ],
   "source": [
    "fig, ax = plt.subplots(nrows=3, sharex=True, sharey=True, figsize=(14, 10))\n",
    "sns.distplot(\n",
    "    train.loc[train['author'] == 'EAP']['word_count'].values,\n",
    "    ax=ax[0],\n",
    "    color='blue',\n",
    "    label='Edgar Allan Poe')\n",
    "sns.distplot(\n",
    "    train.loc[train['author'] == 'MWS']['word_count'].values,\n",
    "    ax=ax[1],\n",
    "    color='green',\n",
    "    label='Mary Shelley')\n",
    "sns.distplot(\n",
    "    train.loc[train['author'] == 'HPL']['word_count'].values,\n",
    "    ax=ax[2],\n",
    "    color='red',\n",
    "    label='HP Lovecraft')\n",
    "ax[0].legend(loc=0)\n",
    "ax[1].legend(loc=0)\n",
    "ax[2].legend(loc=0)"
   ]
  },
  {
   "cell_type": "markdown",
   "metadata": {},
   "source": [
    "## naive bayes features"
   ]
  },
  {
   "cell_type": "code",
   "execution_count": 18,
   "metadata": {},
   "outputs": [
    {
     "name": "stdout",
     "output_type": "stream",
     "text": [
      "(19579, 5) (8392, 7)\n"
     ]
    },
    {
     "data": {
      "text/html": [
       "<div>\n",
       "<style scoped>\n",
       "    .dataframe tbody tr th:only-of-type {\n",
       "        vertical-align: middle;\n",
       "    }\n",
       "\n",
       "    .dataframe tbody tr th {\n",
       "        vertical-align: top;\n",
       "    }\n",
       "\n",
       "    .dataframe thead th {\n",
       "        text-align: right;\n",
       "    }\n",
       "</style>\n",
       "<table border=\"1\" class=\"dataframe\">\n",
       "  <thead>\n",
       "    <tr style=\"text-align: right;\">\n",
       "      <th></th>\n",
       "      <th>word_count</th>\n",
       "      <th>char_count</th>\n",
       "      <th>unique_word_fraction</th>\n",
       "      <th>stopwords_count</th>\n",
       "      <th>punctuations_fraction</th>\n",
       "    </tr>\n",
       "  </thead>\n",
       "  <tbody>\n",
       "    <tr>\n",
       "      <th>0</th>\n",
       "      <td>41</td>\n",
       "      <td>231</td>\n",
       "      <td>0.853659</td>\n",
       "      <td>0.487805</td>\n",
       "      <td>0.030303</td>\n",
       "    </tr>\n",
       "    <tr>\n",
       "      <th>1</th>\n",
       "      <td>14</td>\n",
       "      <td>71</td>\n",
       "      <td>1.000000</td>\n",
       "      <td>0.571429</td>\n",
       "      <td>0.014085</td>\n",
       "    </tr>\n",
       "    <tr>\n",
       "      <th>2</th>\n",
       "      <td>36</td>\n",
       "      <td>200</td>\n",
       "      <td>0.888889</td>\n",
       "      <td>0.472222</td>\n",
       "      <td>0.025000</td>\n",
       "    </tr>\n",
       "    <tr>\n",
       "      <th>3</th>\n",
       "      <td>34</td>\n",
       "      <td>206</td>\n",
       "      <td>0.911765</td>\n",
       "      <td>0.382353</td>\n",
       "      <td>0.019417</td>\n",
       "    </tr>\n",
       "    <tr>\n",
       "      <th>4</th>\n",
       "      <td>27</td>\n",
       "      <td>174</td>\n",
       "      <td>0.925926</td>\n",
       "      <td>0.407407</td>\n",
       "      <td>0.022989</td>\n",
       "    </tr>\n",
       "  </tbody>\n",
       "</table>\n",
       "</div>"
      ],
      "text/plain": [
       "   word_count  char_count  unique_word_fraction  stopwords_count  \\\n",
       "0          41         231              0.853659         0.487805   \n",
       "1          14          71              1.000000         0.571429   \n",
       "2          36         200              0.888889         0.472222   \n",
       "3          34         206              0.911765         0.382353   \n",
       "4          27         174              0.925926         0.407407   \n",
       "\n",
       "   punctuations_fraction  \n",
       "0               0.030303  \n",
       "1               0.014085  \n",
       "2               0.025000  \n",
       "3               0.019417  \n",
       "4               0.022989  "
      ]
     },
     "execution_count": 18,
     "metadata": {},
     "output_type": "execute_result"
    }
   ],
   "source": [
    "author_mapping_dict = {'EAP': 0, 'HPL': 1, 'MWS': 2}\n",
    "y_train = train['author'].map(author_mapping_dict)\n",
    "\n",
    "drop_elements = ['id', 'text']\n",
    "x_train = train.drop(drop_elements + ['author'], axis=1)\n",
    "x_test = test.drop(drop_elements, axis=1)\n",
    "\n",
    "print(x_train.shape, test.shape)\n",
    "x_train.head()"
   ]
  },
  {
   "cell_type": "code",
   "execution_count": 19,
   "metadata": {},
   "outputs": [],
   "source": [
    "def runMNB(x_train, y_train, x_val, x_test):\n",
    "    model = naive_bayes.MultinomialNB()\n",
    "    model.fit(x_train, y_train)\n",
    "    pred_y_val = model.predict_proba(x_val)\n",
    "    pred_y_test = model.predict_proba(x_test)\n",
    "    return pred_y_val, pred_y_test, model"
   ]
  },
  {
   "cell_type": "code",
   "execution_count": 20,
   "metadata": {},
   "outputs": [
    {
     "name": "stdout",
     "output_type": "stream",
     "text": [
      "Mean cv score :  0.835464376712\n"
     ]
    }
   ],
   "source": [
    "tfidf_vectorizer = TfidfVectorizer(stop_words='english', ngram_range=(1, 3))\n",
    "tfidf_train = tfidf_vectorizer.fit_transform(train['text'].values.tolist())\n",
    "tfidf_test = tfidf_vectorizer.transform(test['text'].values.tolist())\n",
    "\n",
    "n_splits = 5\n",
    "cv_scores = []\n",
    "pred_full_test = 0\n",
    "pred_train = np.zeros([train.shape[0], 3])\n",
    "kf = model_selection.KFold(n_splits=n_splits, shuffle=True, random_state=2017)\n",
    "\n",
    "for idx_dev, idx_val in kf.split(tfidf_train):\n",
    "    x_dev, x_val = tfidf_train[idx_dev], tfidf_train[idx_val]\n",
    "    y_dev, y_val = y_train[idx_dev], y_train[idx_val]\n",
    "    pred_y_val, pred_y_test, model = runMNB(x_dev, y_dev, x_val, tfidf_test)\n",
    "    pred_full_test = pred_full_test + pred_y_test\n",
    "    pred_train[idx_val, :] = pred_y_val\n",
    "    cv_scores.append(metrics.log_loss(y_val, pred_y_val))\n",
    "print(\"Mean cv score : \", np.mean(cv_scores))\n",
    "pred_full_test = pred_full_test / float(n_splits)\n",
    "\n",
    "# add the predictions as new features\n",
    "train[\"nb_cvec_eap\"] = pred_train[:, 0]\n",
    "train[\"nb_cvec_hpl\"] = pred_train[:, 1]\n",
    "train[\"nb_cvec_mws\"] = pred_train[:, 2]\n",
    "test[\"nb_cvec_eap\"] = pred_full_test[:, 0]\n",
    "test[\"nb_cvec_hpl\"] = pred_full_test[:, 1]\n",
    "test[\"nb_cvec_mws\"] = pred_full_test[:, 2]"
   ]
  },
  {
   "cell_type": "code",
   "execution_count": 21,
   "metadata": {
    "scrolled": true
   },
   "outputs": [
    {
     "name": "stdout",
     "output_type": "stream",
     "text": [
      "Mean cv score :  0.453892575699\n"
     ]
    }
   ],
   "source": [
    "tf_vectorizer = CountVectorizer(stop_words='english', ngram_range=(1, 3))\n",
    "tf_vectorizer.fit(train['text'].values.tolist())\n",
    "tf_train = tf_vectorizer.transform(train['text'].values.tolist())\n",
    "tf_test = tf_vectorizer.transform(test['text'].values.tolist())\n",
    "\n",
    "n_splits = 5\n",
    "cv_scores = []\n",
    "pred_full_test = 0\n",
    "pred_train = np.zeros([train.shape[0], 3])\n",
    "kf = model_selection.KFold(n_splits=n_splits, shuffle=True, random_state=2017)\n",
    "\n",
    "for idx_dev, idx_val in kf.split(tf_train):\n",
    "    x_dev, x_val = tf_train[idx_dev], tf_train[idx_val]\n",
    "    y_dev, y_val = y_train[idx_dev], y_train[idx_val]\n",
    "    pred_y_val, pred_y_test, model = runMNB(x_dev, y_dev, x_val, tf_test)\n",
    "    pred_full_test = pred_full_test + pred_y_test\n",
    "    pred_train[idx_val, :] = pred_y_val\n",
    "    cv_scores.append(metrics.log_loss(y_val, pred_y_val))\n",
    "print(\"Mean cv score : \", np.mean(cv_scores))\n",
    "pred_full_test = pred_full_test / float(n_splits)\n",
    "\n",
    "# add the predictions as new features\n",
    "train[\"nb_cvec_eap\"] = pred_train[:, 0]\n",
    "train[\"nb_cvec_hpl\"] = pred_train[:, 1]\n",
    "train[\"nb_cvec_mws\"] = pred_train[:, 2]\n",
    "test[\"nb_cvec_eap\"] = pred_full_test[:, 0]\n",
    "test[\"nb_cvec_hpl\"] = pred_full_test[:, 1]\n",
    "test[\"nb_cvec_mws\"] = pred_full_test[:, 2]"
   ]
  },
  {
   "cell_type": "markdown",
   "metadata": {},
   "source": [
    "## Tf-idf features"
   ]
  },
  {
   "cell_type": "code",
   "execution_count": 22,
   "metadata": {},
   "outputs": [],
   "source": [
    "lemm = nltk.stem.WordNetLemmatizer()\n",
    "\n",
    "\n",
    "class LemmCountVectorizer(CountVectorizer):\n",
    "    def build_analyzer(self):\n",
    "        analyzer = super(LemmCountVectorizer, self).build_analyzer()\n",
    "        return lambda doc: (lemm.lemmatize(w) for w in analyzer(doc))\n",
    "\n",
    "\n",
    "class LemmTfidfVectorizer(TfidfVectorizer):\n",
    "    def build_analyzer(self):\n",
    "        analyzer = super(LemmTfidfVectorizer, self).build_analyzer()\n",
    "        return lambda doc: (lemm.lemmatize(w) for w in analyzer(doc))"
   ]
  },
  {
   "cell_type": "code",
   "execution_count": 23,
   "metadata": {},
   "outputs": [],
   "source": [
    "tf_vectorizer = LemmCountVectorizer(stop_words='english', ngram_range=(1,3))\n",
    "#tf_vectorizer = CountVectorizer(stop_words='english', ngram_range=(1, 3))\n",
    "tf_train = tf_vectorizer.fit_transform(train['text'].values.tolist())\n",
    "tf_test = tf_vectorizer.transform(test['text'].values.tolist())"
   ]
  },
  {
   "cell_type": "code",
   "execution_count": 24,
   "metadata": {},
   "outputs": [],
   "source": [
    "tfidf_vectorizer = LemmTfidfVectorizer(stop_words='english', ngram_range=(1, 5))\n",
    "tfidf_train = tfidf_vectorizer.fit_transform(train['text'].values.tolist())\n",
    "tfidf_test = tfidf_vectorizer.transform(test['text'].values.tolist())"
   ]
  },
  {
   "cell_type": "code",
   "execution_count": 25,
   "metadata": {
    "scrolled": true
   },
   "outputs": [
    {
     "name": "stdout",
     "output_type": "stream",
     "text": [
      "(19579, 11) (8392, 10)\n"
     ]
    }
   ],
   "source": [
    "print(train.shape, test.shape)"
   ]
  },
  {
   "cell_type": "code",
   "execution_count": 26,
   "metadata": {},
   "outputs": [],
   "source": [
    "#start = time.time()\n",
    "#\n",
    "#n_comp = 400\n",
    "#svd_obj = TruncatedSVD(n_components=n_comp, algorithm='arpack', random_state=2017)\n",
    "#svd_obj.fit(tfidf_train)\n",
    "#svd_train = pd.DataFrame(svd_obj.transform(tf_train))\n",
    "#svd_test = pd.DataFrame(svd_obj.transform(tf_test))\n",
    "#\n",
    "#svd_train.columns = ['svd_word_' + str(i) for i in range(n_comp)]\n",
    "#svd_test.columns = ['svd_word_' + str(i) for i in range(n_comp)]\n",
    "#train = pd.concat([train, svd_train], axis=1)\n",
    "#test = pd.concat([test, svd_test], axis=1)\n",
    "#\n",
    "#end = time.time()\n",
    "#print(\"Time taken in tf-idf is {}.\".format(end - start))"
   ]
  },
  {
   "cell_type": "code",
   "execution_count": 27,
   "metadata": {},
   "outputs": [
    {
     "name": "stdout",
     "output_type": "stream",
     "text": [
      "Time taken in tf-idf is 65.28149509429932.\n"
     ]
    }
   ],
   "source": [
    "start = time.time()\n",
    "\n",
    "n_comp = 400\n",
    "svd_obj = TruncatedSVD(n_components=n_comp, algorithm='arpack', random_state=2017)\n",
    "#svd_obj.fit(tfidf_train)\n",
    "svd_train = pd.DataFrame(svd_obj.fit_transform(tfidf_train))\n",
    "svd_test = pd.DataFrame(svd_obj.transform(tfidf_test))\n",
    "\n",
    "svd_train.columns = ['svd_char_' + str(i) for i in range(n_comp)]\n",
    "svd_test.columns = ['svd_char_' + str(i) for i in range(n_comp)]\n",
    "train = pd.concat([train, svd_train], axis=1)\n",
    "test = pd.concat([test, svd_test], axis=1)\n",
    "\n",
    "end = time.time()\n",
    "print(\"Time taken in tf-idf is {}.\".format(end - start))"
   ]
  },
  {
   "cell_type": "code",
   "execution_count": 28,
   "metadata": {
    "scrolled": true
   },
   "outputs": [
    {
     "name": "stdout",
     "output_type": "stream",
     "text": [
      "(19579, 411) (8392, 410)\n"
     ]
    },
    {
     "data": {
      "text/html": [
       "<div>\n",
       "<style scoped>\n",
       "    .dataframe tbody tr th:only-of-type {\n",
       "        vertical-align: middle;\n",
       "    }\n",
       "\n",
       "    .dataframe tbody tr th {\n",
       "        vertical-align: top;\n",
       "    }\n",
       "\n",
       "    .dataframe thead th {\n",
       "        text-align: right;\n",
       "    }\n",
       "</style>\n",
       "<table border=\"1\" class=\"dataframe\">\n",
       "  <thead>\n",
       "    <tr style=\"text-align: right;\">\n",
       "      <th></th>\n",
       "      <th>id</th>\n",
       "      <th>text</th>\n",
       "      <th>author</th>\n",
       "      <th>word_count</th>\n",
       "      <th>char_count</th>\n",
       "      <th>unique_word_fraction</th>\n",
       "      <th>stopwords_count</th>\n",
       "      <th>punctuations_fraction</th>\n",
       "      <th>nb_cvec_eap</th>\n",
       "      <th>nb_cvec_hpl</th>\n",
       "      <th>...</th>\n",
       "      <th>svd_char_390</th>\n",
       "      <th>svd_char_391</th>\n",
       "      <th>svd_char_392</th>\n",
       "      <th>svd_char_393</th>\n",
       "      <th>svd_char_394</th>\n",
       "      <th>svd_char_395</th>\n",
       "      <th>svd_char_396</th>\n",
       "      <th>svd_char_397</th>\n",
       "      <th>svd_char_398</th>\n",
       "      <th>svd_char_399</th>\n",
       "    </tr>\n",
       "  </thead>\n",
       "  <tbody>\n",
       "    <tr>\n",
       "      <th>0</th>\n",
       "      <td>id26305</td>\n",
       "      <td>This process, however, afforded me no means of...</td>\n",
       "      <td>EAP</td>\n",
       "      <td>41</td>\n",
       "      <td>231</td>\n",
       "      <td>0.853659</td>\n",
       "      <td>0.487805</td>\n",
       "      <td>0.030303</td>\n",
       "      <td>9.999894e-01</td>\n",
       "      <td>4.065931e-06</td>\n",
       "      <td>...</td>\n",
       "      <td>-0.005562</td>\n",
       "      <td>0.008264</td>\n",
       "      <td>-0.002542</td>\n",
       "      <td>0.014016</td>\n",
       "      <td>0.001995</td>\n",
       "      <td>-0.001521</td>\n",
       "      <td>-0.009520</td>\n",
       "      <td>0.000202</td>\n",
       "      <td>-0.002278</td>\n",
       "      <td>-0.004925</td>\n",
       "    </tr>\n",
       "    <tr>\n",
       "      <th>1</th>\n",
       "      <td>id17569</td>\n",
       "      <td>It never once occurred to me that the fumbling...</td>\n",
       "      <td>HPL</td>\n",
       "      <td>14</td>\n",
       "      <td>71</td>\n",
       "      <td>1.000000</td>\n",
       "      <td>0.571429</td>\n",
       "      <td>0.014085</td>\n",
       "      <td>8.112629e-01</td>\n",
       "      <td>1.583722e-01</td>\n",
       "      <td>...</td>\n",
       "      <td>-0.035802</td>\n",
       "      <td>0.006360</td>\n",
       "      <td>-0.007376</td>\n",
       "      <td>-0.030178</td>\n",
       "      <td>0.002564</td>\n",
       "      <td>-0.014688</td>\n",
       "      <td>0.008747</td>\n",
       "      <td>0.039815</td>\n",
       "      <td>-0.020141</td>\n",
       "      <td>0.003364</td>\n",
       "    </tr>\n",
       "    <tr>\n",
       "      <th>2</th>\n",
       "      <td>id11008</td>\n",
       "      <td>In his left hand was a gold snuff box, from wh...</td>\n",
       "      <td>EAP</td>\n",
       "      <td>36</td>\n",
       "      <td>200</td>\n",
       "      <td>0.888889</td>\n",
       "      <td>0.472222</td>\n",
       "      <td>0.025000</td>\n",
       "      <td>9.999873e-01</td>\n",
       "      <td>1.267926e-05</td>\n",
       "      <td>...</td>\n",
       "      <td>-0.009188</td>\n",
       "      <td>0.035607</td>\n",
       "      <td>0.014287</td>\n",
       "      <td>-0.000629</td>\n",
       "      <td>-0.011040</td>\n",
       "      <td>0.010444</td>\n",
       "      <td>0.006669</td>\n",
       "      <td>0.015396</td>\n",
       "      <td>0.011051</td>\n",
       "      <td>-0.004965</td>\n",
       "    </tr>\n",
       "    <tr>\n",
       "      <th>3</th>\n",
       "      <td>id27763</td>\n",
       "      <td>How lovely is spring As we looked from Windsor...</td>\n",
       "      <td>MWS</td>\n",
       "      <td>34</td>\n",
       "      <td>206</td>\n",
       "      <td>0.911765</td>\n",
       "      <td>0.382353</td>\n",
       "      <td>0.019417</td>\n",
       "      <td>7.761739e-10</td>\n",
       "      <td>6.212832e-10</td>\n",
       "      <td>...</td>\n",
       "      <td>0.000212</td>\n",
       "      <td>-0.008549</td>\n",
       "      <td>0.002516</td>\n",
       "      <td>-0.005813</td>\n",
       "      <td>0.001378</td>\n",
       "      <td>0.006148</td>\n",
       "      <td>0.001463</td>\n",
       "      <td>0.002236</td>\n",
       "      <td>0.006745</td>\n",
       "      <td>0.004830</td>\n",
       "    </tr>\n",
       "    <tr>\n",
       "      <th>4</th>\n",
       "      <td>id12958</td>\n",
       "      <td>Finding nothing else, not even gold, the Super...</td>\n",
       "      <td>HPL</td>\n",
       "      <td>27</td>\n",
       "      <td>174</td>\n",
       "      <td>0.925926</td>\n",
       "      <td>0.407407</td>\n",
       "      <td>0.022989</td>\n",
       "      <td>8.629272e-01</td>\n",
       "      <td>1.337367e-01</td>\n",
       "      <td>...</td>\n",
       "      <td>0.014072</td>\n",
       "      <td>0.005710</td>\n",
       "      <td>-0.003203</td>\n",
       "      <td>0.000462</td>\n",
       "      <td>0.001064</td>\n",
       "      <td>0.000209</td>\n",
       "      <td>-0.012035</td>\n",
       "      <td>0.009865</td>\n",
       "      <td>-0.000339</td>\n",
       "      <td>0.006922</td>\n",
       "    </tr>\n",
       "  </tbody>\n",
       "</table>\n",
       "<p>5 rows × 411 columns</p>\n",
       "</div>"
      ],
      "text/plain": [
       "        id                                               text author  \\\n",
       "0  id26305  This process, however, afforded me no means of...    EAP   \n",
       "1  id17569  It never once occurred to me that the fumbling...    HPL   \n",
       "2  id11008  In his left hand was a gold snuff box, from wh...    EAP   \n",
       "3  id27763  How lovely is spring As we looked from Windsor...    MWS   \n",
       "4  id12958  Finding nothing else, not even gold, the Super...    HPL   \n",
       "\n",
       "   word_count  char_count  unique_word_fraction  stopwords_count  \\\n",
       "0          41         231              0.853659         0.487805   \n",
       "1          14          71              1.000000         0.571429   \n",
       "2          36         200              0.888889         0.472222   \n",
       "3          34         206              0.911765         0.382353   \n",
       "4          27         174              0.925926         0.407407   \n",
       "\n",
       "   punctuations_fraction   nb_cvec_eap   nb_cvec_hpl      ...       \\\n",
       "0               0.030303  9.999894e-01  4.065931e-06      ...        \n",
       "1               0.014085  8.112629e-01  1.583722e-01      ...        \n",
       "2               0.025000  9.999873e-01  1.267926e-05      ...        \n",
       "3               0.019417  7.761739e-10  6.212832e-10      ...        \n",
       "4               0.022989  8.629272e-01  1.337367e-01      ...        \n",
       "\n",
       "   svd_char_390  svd_char_391  svd_char_392  svd_char_393  svd_char_394  \\\n",
       "0     -0.005562      0.008264     -0.002542      0.014016      0.001995   \n",
       "1     -0.035802      0.006360     -0.007376     -0.030178      0.002564   \n",
       "2     -0.009188      0.035607      0.014287     -0.000629     -0.011040   \n",
       "3      0.000212     -0.008549      0.002516     -0.005813      0.001378   \n",
       "4      0.014072      0.005710     -0.003203      0.000462      0.001064   \n",
       "\n",
       "   svd_char_395  svd_char_396  svd_char_397  svd_char_398  svd_char_399  \n",
       "0     -0.001521     -0.009520      0.000202     -0.002278     -0.004925  \n",
       "1     -0.014688      0.008747      0.039815     -0.020141      0.003364  \n",
       "2      0.010444      0.006669      0.015396      0.011051     -0.004965  \n",
       "3      0.006148      0.001463      0.002236      0.006745      0.004830  \n",
       "4      0.000209     -0.012035      0.009865     -0.000339      0.006922  \n",
       "\n",
       "[5 rows x 411 columns]"
      ]
     },
     "execution_count": 28,
     "metadata": {},
     "output_type": "execute_result"
    }
   ],
   "source": [
    "print(train.shape, test.shape)\n",
    "train.head()"
   ]
  },
  {
   "cell_type": "markdown",
   "metadata": {},
   "source": [
    "## lda"
   ]
  },
  {
   "cell_type": "code",
   "execution_count": 20,
   "metadata": {},
   "outputs": [],
   "source": [
    "# Define helper function to print top words\n",
    "def print_top_words(model, feature_names, n_top_words):\n",
    "    for index, topic in enumerate(model.components_):\n",
    "        message = (\"\\nTopic #{}: \").format(index)\n",
    "        message += \" \".join([feature_names[i] for i in topic.argsort()[:-n_top_words - 1 :-1]])\n",
    "        print(message)\n",
    "        print(\"=\"*70)"
   ]
  },
  {
   "cell_type": "code",
   "execution_count": 21,
   "metadata": {},
   "outputs": [],
   "source": [
    "lda = LatentDirichletAllocation(\n",
    "    n_components=10,\n",
    "    max_iter=5,\n",
    "    learning_method='online',\n",
    "    learning_offset=50.,\n",
    "    random_state=0)"
   ]
  },
  {
   "cell_type": "code",
   "execution_count": 22,
   "metadata": {},
   "outputs": [
    {
     "data": {
      "text/plain": [
       "LatentDirichletAllocation(batch_size=128, doc_topic_prior=None,\n",
       "             evaluate_every=-1, learning_decay=0.7,\n",
       "             learning_method='online', learning_offset=50.0,\n",
       "             max_doc_update_iter=100, max_iter=5, mean_change_tol=0.001,\n",
       "             n_components=10, n_jobs=1, n_topics=None, perp_tol=0.1,\n",
       "             random_state=0, topic_word_prior=None,\n",
       "             total_samples=1000000.0, verbose=0)"
      ]
     },
     "execution_count": 22,
     "metadata": {},
     "output_type": "execute_result"
    }
   ],
   "source": [
    "#lda.fit(tfidf_train)\n",
    "lda.fit(tf_train)"
   ]
  },
  {
   "cell_type": "code",
   "execution_count": 23,
   "metadata": {
    "scrolled": true
   },
   "outputs": [
    {
     "name": "stdout",
     "output_type": "stream",
     "text": [
      "Topics in LDA model: \n",
      "\n",
      "Topic #0: admiralty court streets admiration pity especially events nineteenth ah dearest friend action lingered account properly belong period life abstract conception account circumstances brought neglect father accomplished loss advanced truth argument acolyte bear brimming advanced bore small afterward reproduced associated advances time exuberant act hesitation vanished acquired knowledge addition raymond dispelled adduced support idea articles adorn mind person man fitted account patient condition acetylene headlight despite attention\n",
      "======================================================================\n",
      "\n",
      "Topic #1: adjoining staircase arrested attention addressed english voice affection undisturbed unchecked fear opened accompanied apparent rapid subsidence admonition singular low agreed understand passages act previous act accommodation man accompanied actions arising aged father adrian visited london came ah bon acts recovery agreed virtual identity phrase agora abnormal looking address noble persons mentioned husband absolutely necessary return old adder sting adorned bowers vines\n",
      "======================================================================\n",
      "\n",
      "Topic #2: abxut address discovered lay old town acknowledge recall adjoining staircase arrested attention address mystification intended especially acquired knowledge action lingered afraid live ancient afraid shines certain scenes abdul alhazred olaus adorned bowers vines aching cares aged far agreed understand passages acquainting acted lullaby keen sensations afternoon attended ushers permitted age scarcely visible wondered unperceived action government frantic appeals affection undisturbed unchecked fear opened\n",
      "======================================================================\n",
      "\n",
      "Topic #3: actors wept pourtrayed imagined passion account bank pays affection increase miseries tenfold obstacle accustomed visit adoration delighted additional ideas absolute lifelessness withdrew satisfied adorned mantel acted simple passions affirmative courage added list chance agreed father cousin consent ceremony adorned bowers vines acquaintance newspapers agatha asked age inspired reverence acquainted afforded little matter addition half afterward broad admitted remark little\n",
      "======================================================================\n",
      "\n",
      "Topic #4: accommodation man actions fully carried activity town judged news escape admitting room adept despicable actor early friend dr johnson agatha spent time acknowledge hereditary bond aerial plains abortive balm self applause ago youthful prime abaout like jelly sep admitted pressure court oyer terminer accord frequent consultation action proved abashment acknowledgment overpowering sense actual gravity bodies planet supposed adrian obliged admire dissimilar natural necessary\n",
      "======================================================================\n",
      "\n",
      "Topic #5: aged city fabulous creatures pliny accord frequent consultation added vigour disease admit kind aged far agreeing general character places period actions better worse affection undisturbed unchecked fear opened act basest admirable aid vision really immense abandoned halls towers old abruptly ended soldiers cleared space administration affairs understood paris thought abject young girl designates affectionately thank said relieved addressed voice means loud achieved hideous preliminary afrasiab voyage age tour acknowledge majesty nature\n",
      "======================================================================\n",
      "\n",
      "Topic #6: affectionately aged rapidity achievements projects account double folding gate addressed heart good natural ah bon affinity light invests hills adduced proof guilt admonition singular low adrian spoke disparagement afterward broad daylight immediate affording scope spirit ages elapsed affected crew admiralty court streets acted lullaby keen sensations placed adrian nurslings afforded little matter advanced bore actors wept pourtrayed\n",
      "======================================================================\n",
      "\n",
      "Topic #7: actions earthly life aged rapidity acted lullaby keen sensations addressed voice means loud abhorrent religion abstruseness thousand times greater agony mitigated thoughts wandered accompany dark journey accord frequent consultation admiralty court addressed french fear place absence idiosyncratic organs attribute adduced proof guilt worked admiration excited introduction adjoining complained agreed father cousin consent ceremony additional work summer adopted place afforded shelter food agent charleston enabled\n",
      "======================================================================\n",
      "\n",
      "Topic #8: accustomed suffer agonized parts addressed english voice admirer women afraid sightless vortex agony delivered unto worse death account overwhelming anxiety appeared accustomed wild tales acknowledge inability understand universe written affected imagination powerful admiration pity especially events nineteenth afflicted man fully abroad think black wilbur accustomed health ryland addressed french fear place action proved means access premises mentioned fears point adrian idris established act conformity adrian plans adept despicable\n",
      "======================================================================\n",
      "\n",
      "Topic #9: affliction shock results unlucky slip affectionately thank said relieved added years past sufferings irresistibly aged rapidity agony unknown understand aged clock striking accoutred parisian consider good adjoining complained admit consistency absolute unquestionable truth africa did like english ways aeons men accord frequent consultation afterward suddenly felt waves subside act performed check impending cataclysm absent forms accustomed suffer affairs binary advanced placed variety combustibles adduced arguments fervent accordance conclusions previously arrived things\n",
      "======================================================================\n"
     ]
    }
   ],
   "source": [
    "n_top_words = 20\n",
    "print(\"Topics in LDA model: \")\n",
    "tfidf_feature_names = tfidf_vectorizer.get_feature_names()\n",
    "print_top_words(lda, tfidf_feature_names, n_top_words)"
   ]
  },
  {
   "cell_type": "code",
   "execution_count": 24,
   "metadata": {},
   "outputs": [
    {
     "data": {
      "text/plain": [
       "(13781,)"
      ]
     },
     "execution_count": 24,
     "metadata": {},
     "output_type": "execute_result"
    }
   ],
   "source": [
    "first_topic = lda.components_[0]\n",
    "second_topic = lda.components_[1]\n",
    "third_topic = lda.components_[2]\n",
    "\n",
    "first_topic.shape"
   ]
  },
  {
   "cell_type": "code",
   "execution_count": 25,
   "metadata": {},
   "outputs": [],
   "source": [
    "first_topic_words = [\n",
    "    tfidf_feature_names[i] for i in first_topic.argsort()[:-50 - 1:-1]\n",
    "]\n",
    "second_topic_words = [\n",
    "    tfidf_feature_names[i] for i in second_topic.argsort()[:-50 - 1:-1]\n",
    "]\n",
    "third_topic_words = [\n",
    "    tfidf_feature_names[i] for i in third_topic.argsort()[:-50 - 1:-1]\n",
    "]"
   ]
  },
  {
   "cell_type": "code",
   "execution_count": 26,
   "metadata": {
    "scrolled": true
   },
   "outputs": [
    {
     "name": "stdout",
     "output_type": "stream",
     "text": [
      "7637\n",
      "7730\n",
      "13750\n",
      "5618\n",
      "3911\n",
      "1936\n",
      "3673\n",
      "3222\n",
      "9157\n",
      "4785\n",
      "9032\n",
      "11688\n",
      "9198\n",
      "5324\n",
      "5095\n",
      "7000\n",
      "7292\n",
      "8367\n",
      "3856\n",
      "4573\n",
      "139\n",
      "11224\n",
      "7394\n",
      "11997\n",
      "2745\n",
      "13527\n",
      "7623\n",
      "6099\n",
      "5252\n",
      "846\n",
      "4334\n",
      "1472\n",
      "2613\n",
      "3248\n",
      "5599\n",
      "7299\n",
      "2224\n",
      "5479\n",
      "11791\n",
      "13511\n",
      "13697\n",
      "1394\n",
      "7851\n",
      "8326\n",
      "5432\n",
      "8416\n",
      "5402\n",
      "421\n",
      "10506\n",
      "12061\n"
     ]
    }
   ],
   "source": [
    "for i in first_topic.argsort()[:-50 - 1:-1]:\n",
    "    print(i)"
   ]
  },
  {
   "cell_type": "markdown",
   "metadata": {},
   "source": [
    "## SVD decomposition"
   ]
  },
  {
   "cell_type": "code",
   "execution_count": 29,
   "metadata": {},
   "outputs": [],
   "source": [
    "n_comp = 400\n",
    "svd = TruncatedSVD(n_components=n_comp, algorithm='arpack', random_state=2017)\n",
    "lsa = make_pipeline(svd, Normalizer(copy=False))\n",
    "\n",
    "lsa_tfidf_train = lsa.fit_transform(tfidf_train)\n",
    "lsa_tfidf_test = lsa.transform(tfidf_test)"
   ]
  },
  {
   "cell_type": "code",
   "execution_count": 30,
   "metadata": {
    "scrolled": true
   },
   "outputs": [
    {
     "data": {
      "text/html": [
       "<div>\n",
       "<style scoped>\n",
       "    .dataframe tbody tr th:only-of-type {\n",
       "        vertical-align: middle;\n",
       "    }\n",
       "\n",
       "    .dataframe tbody tr th {\n",
       "        vertical-align: top;\n",
       "    }\n",
       "\n",
       "    .dataframe thead th {\n",
       "        text-align: right;\n",
       "    }\n",
       "</style>\n",
       "<table border=\"1\" class=\"dataframe\">\n",
       "  <thead>\n",
       "    <tr style=\"text-align: right;\">\n",
       "      <th></th>\n",
       "      <th>id</th>\n",
       "      <th>text</th>\n",
       "      <th>author</th>\n",
       "      <th>word_count</th>\n",
       "      <th>char_count</th>\n",
       "      <th>unique_word_fraction</th>\n",
       "      <th>stopwords_count</th>\n",
       "      <th>punctuations_fraction</th>\n",
       "      <th>lsa_tfidf_0</th>\n",
       "      <th>lsa_tfidf_1</th>\n",
       "      <th>...</th>\n",
       "      <th>lsa_tfidf_390</th>\n",
       "      <th>lsa_tfidf_391</th>\n",
       "      <th>lsa_tfidf_392</th>\n",
       "      <th>lsa_tfidf_393</th>\n",
       "      <th>lsa_tfidf_394</th>\n",
       "      <th>lsa_tfidf_395</th>\n",
       "      <th>lsa_tfidf_396</th>\n",
       "      <th>lsa_tfidf_397</th>\n",
       "      <th>lsa_tfidf_398</th>\n",
       "      <th>lsa_tfidf_399</th>\n",
       "    </tr>\n",
       "  </thead>\n",
       "  <tbody>\n",
       "    <tr>\n",
       "      <th>0</th>\n",
       "      <td>id26305</td>\n",
       "      <td>This process, however, afforded me no means of...</td>\n",
       "      <td>EAP</td>\n",
       "      <td>41</td>\n",
       "      <td>231</td>\n",
       "      <td>0.853659</td>\n",
       "      <td>0.487805</td>\n",
       "      <td>0.030303</td>\n",
       "      <td>0.139840</td>\n",
       "      <td>-0.007251</td>\n",
       "      <td>...</td>\n",
       "      <td>0.000643</td>\n",
       "      <td>-0.006058</td>\n",
       "      <td>-0.019385</td>\n",
       "      <td>-0.006768</td>\n",
       "      <td>0.025770</td>\n",
       "      <td>-0.011014</td>\n",
       "      <td>0.008027</td>\n",
       "      <td>0.005641</td>\n",
       "      <td>-0.005337</td>\n",
       "      <td>-0.008757</td>\n",
       "    </tr>\n",
       "    <tr>\n",
       "      <th>1</th>\n",
       "      <td>id17569</td>\n",
       "      <td>It never once occurred to me that the fumbling...</td>\n",
       "      <td>HPL</td>\n",
       "      <td>14</td>\n",
       "      <td>71</td>\n",
       "      <td>1.000000</td>\n",
       "      <td>0.571429</td>\n",
       "      <td>0.014085</td>\n",
       "      <td>0.121417</td>\n",
       "      <td>-0.017047</td>\n",
       "      <td>...</td>\n",
       "      <td>0.060658</td>\n",
       "      <td>0.010534</td>\n",
       "      <td>-0.016033</td>\n",
       "      <td>0.074337</td>\n",
       "      <td>0.019329</td>\n",
       "      <td>-0.049497</td>\n",
       "      <td>-0.017260</td>\n",
       "      <td>0.062045</td>\n",
       "      <td>0.006726</td>\n",
       "      <td>0.048931</td>\n",
       "    </tr>\n",
       "    <tr>\n",
       "      <th>2</th>\n",
       "      <td>id11008</td>\n",
       "      <td>In his left hand was a gold snuff box, from wh...</td>\n",
       "      <td>EAP</td>\n",
       "      <td>36</td>\n",
       "      <td>200</td>\n",
       "      <td>0.888889</td>\n",
       "      <td>0.472222</td>\n",
       "      <td>0.025000</td>\n",
       "      <td>0.178419</td>\n",
       "      <td>-0.038070</td>\n",
       "      <td>...</td>\n",
       "      <td>0.030911</td>\n",
       "      <td>-0.011846</td>\n",
       "      <td>-0.056019</td>\n",
       "      <td>-0.000116</td>\n",
       "      <td>0.008165</td>\n",
       "      <td>-0.095923</td>\n",
       "      <td>-0.011373</td>\n",
       "      <td>0.009266</td>\n",
       "      <td>0.027478</td>\n",
       "      <td>0.040254</td>\n",
       "    </tr>\n",
       "    <tr>\n",
       "      <th>3</th>\n",
       "      <td>id27763</td>\n",
       "      <td>How lovely is spring As we looked from Windsor...</td>\n",
       "      <td>MWS</td>\n",
       "      <td>34</td>\n",
       "      <td>206</td>\n",
       "      <td>0.911765</td>\n",
       "      <td>0.382353</td>\n",
       "      <td>0.019417</td>\n",
       "      <td>0.159391</td>\n",
       "      <td>-0.042417</td>\n",
       "      <td>...</td>\n",
       "      <td>0.020050</td>\n",
       "      <td>0.051008</td>\n",
       "      <td>-0.011462</td>\n",
       "      <td>0.047212</td>\n",
       "      <td>0.040565</td>\n",
       "      <td>-0.027978</td>\n",
       "      <td>-0.003310</td>\n",
       "      <td>-0.070083</td>\n",
       "      <td>0.033151</td>\n",
       "      <td>-0.042343</td>\n",
       "    </tr>\n",
       "    <tr>\n",
       "      <th>4</th>\n",
       "      <td>id12958</td>\n",
       "      <td>Finding nothing else, not even gold, the Super...</td>\n",
       "      <td>HPL</td>\n",
       "      <td>27</td>\n",
       "      <td>174</td>\n",
       "      <td>0.925926</td>\n",
       "      <td>0.407407</td>\n",
       "      <td>0.022989</td>\n",
       "      <td>0.129984</td>\n",
       "      <td>-0.043377</td>\n",
       "      <td>...</td>\n",
       "      <td>0.001220</td>\n",
       "      <td>-0.075847</td>\n",
       "      <td>-0.041770</td>\n",
       "      <td>-0.038500</td>\n",
       "      <td>0.051331</td>\n",
       "      <td>0.033825</td>\n",
       "      <td>-0.044747</td>\n",
       "      <td>-0.006587</td>\n",
       "      <td>0.037715</td>\n",
       "      <td>0.110825</td>\n",
       "    </tr>\n",
       "  </tbody>\n",
       "</table>\n",
       "<p>5 rows × 608 columns</p>\n",
       "</div>"
      ],
      "text/plain": [
       "        id                                               text author  \\\n",
       "0  id26305  This process, however, afforded me no means of...    EAP   \n",
       "1  id17569  It never once occurred to me that the fumbling...    HPL   \n",
       "2  id11008  In his left hand was a gold snuff box, from wh...    EAP   \n",
       "3  id27763  How lovely is spring As we looked from Windsor...    MWS   \n",
       "4  id12958  Finding nothing else, not even gold, the Super...    HPL   \n",
       "\n",
       "   word_count  char_count  unique_word_fraction  stopwords_count  \\\n",
       "0          41         231              0.853659         0.487805   \n",
       "1          14          71              1.000000         0.571429   \n",
       "2          36         200              0.888889         0.472222   \n",
       "3          34         206              0.911765         0.382353   \n",
       "4          27         174              0.925926         0.407407   \n",
       "\n",
       "   punctuations_fraction  lsa_tfidf_0  lsa_tfidf_1      ...        \\\n",
       "0               0.030303     0.139840    -0.007251      ...         \n",
       "1               0.014085     0.121417    -0.017047      ...         \n",
       "2               0.025000     0.178419    -0.038070      ...         \n",
       "3               0.019417     0.159391    -0.042417      ...         \n",
       "4               0.022989     0.129984    -0.043377      ...         \n",
       "\n",
       "   lsa_tfidf_390  lsa_tfidf_391  lsa_tfidf_392  lsa_tfidf_393  lsa_tfidf_394  \\\n",
       "0       0.000643      -0.006058      -0.019385      -0.006768       0.025770   \n",
       "1       0.060658       0.010534      -0.016033       0.074337       0.019329   \n",
       "2       0.030911      -0.011846      -0.056019      -0.000116       0.008165   \n",
       "3       0.020050       0.051008      -0.011462       0.047212       0.040565   \n",
       "4       0.001220      -0.075847      -0.041770      -0.038500       0.051331   \n",
       "\n",
       "   lsa_tfidf_395  lsa_tfidf_396  lsa_tfidf_397  lsa_tfidf_398  lsa_tfidf_399  \n",
       "0      -0.011014       0.008027       0.005641      -0.005337      -0.008757  \n",
       "1      -0.049497      -0.017260       0.062045       0.006726       0.048931  \n",
       "2      -0.095923      -0.011373       0.009266       0.027478       0.040254  \n",
       "3      -0.027978      -0.003310      -0.070083       0.033151      -0.042343  \n",
       "4       0.033825      -0.044747      -0.006587       0.037715       0.110825  \n",
       "\n",
       "[5 rows x 608 columns]"
      ]
     },
     "execution_count": 30,
     "metadata": {},
     "output_type": "execute_result"
    }
   ],
   "source": [
    "#lsa_tf_train_df = pd.DataFrame(lsa_tf_train)\n",
    "#lsa_tf_test_df = pd.DataFrame(lsa_tf_test)\n",
    "#lsa_tf_train_df.columns = ['lsa_tf_' + str(i) for i in range(n_comp)]\n",
    "#lsa_tf_test_df.columns = ['lsa_tf_' + str(i) for i in range(n_comp)]\n",
    "\n",
    "lsa_tfidf_train_df = pd.DataFrame(lsa_tfidf_train)\n",
    "lsa_tfidf_test_df = pd.DataFrame(lsa_tfidf_test)\n",
    "lsa_tfidf_train_df.columns = ['lsa_tfidf_' + str(i) for i in range(n_comp)]\n",
    "lsa_tfidf_test_df.columns = ['lsa_tfidf_' + str(i) for i in range(n_comp)]\n",
    "\n",
    "#train = pd.concat([train, lsa_tf_train_df], axis=1)\n",
    "#test = pd.concat([test, lsa_tf_test_df], axis=1)\n",
    "\n",
    "train = pd.concat([train, lsa_tfidf_train_df], axis=1)\n",
    "test = pd.concat([test, lsa_tfidf_test_df], axis=1)\n",
    "\n",
    "train.head()"
   ]
  },
  {
   "cell_type": "markdown",
   "metadata": {},
   "source": [
    "## sentiment features"
   ]
  },
  {
   "cell_type": "markdown",
   "metadata": {},
   "source": [
    "# Visualisations"
   ]
  },
  {
   "cell_type": "code",
   "execution_count": null,
   "metadata": {},
   "outputs": [],
   "source": [
    "sns.violinplot(x = 'author', y='word_count', data=train)"
   ]
  },
  {
   "cell_type": "markdown",
   "metadata": {},
   "source": [
    "# Ensembling & Stacking models"
   ]
  },
  {
   "cell_type": "code",
   "execution_count": 30,
   "metadata": {},
   "outputs": [
    {
     "name": "stdout",
     "output_type": "stream",
     "text": [
      "(19579, 408) (8392, 408)\n"
     ]
    },
    {
     "data": {
      "text/html": [
       "<div>\n",
       "<style scoped>\n",
       "    .dataframe tbody tr th:only-of-type {\n",
       "        vertical-align: middle;\n",
       "    }\n",
       "\n",
       "    .dataframe tbody tr th {\n",
       "        vertical-align: top;\n",
       "    }\n",
       "\n",
       "    .dataframe thead th {\n",
       "        text-align: right;\n",
       "    }\n",
       "</style>\n",
       "<table border=\"1\" class=\"dataframe\">\n",
       "  <thead>\n",
       "    <tr style=\"text-align: right;\">\n",
       "      <th></th>\n",
       "      <th>word_count</th>\n",
       "      <th>char_count</th>\n",
       "      <th>unique_word_fraction</th>\n",
       "      <th>stopwords_count</th>\n",
       "      <th>punctuations_fraction</th>\n",
       "      <th>nb_cvec_eap</th>\n",
       "      <th>nb_cvec_hpl</th>\n",
       "      <th>nb_cvec_mws</th>\n",
       "      <th>svd_char_0</th>\n",
       "      <th>svd_char_1</th>\n",
       "      <th>...</th>\n",
       "      <th>svd_char_390</th>\n",
       "      <th>svd_char_391</th>\n",
       "      <th>svd_char_392</th>\n",
       "      <th>svd_char_393</th>\n",
       "      <th>svd_char_394</th>\n",
       "      <th>svd_char_395</th>\n",
       "      <th>svd_char_396</th>\n",
       "      <th>svd_char_397</th>\n",
       "      <th>svd_char_398</th>\n",
       "      <th>svd_char_399</th>\n",
       "    </tr>\n",
       "  </thead>\n",
       "  <tbody>\n",
       "    <tr>\n",
       "      <th>0</th>\n",
       "      <td>41</td>\n",
       "      <td>231</td>\n",
       "      <td>0.853659</td>\n",
       "      <td>0.487805</td>\n",
       "      <td>0.030303</td>\n",
       "      <td>9.999894e-01</td>\n",
       "      <td>4.065931e-06</td>\n",
       "      <td>6.573423e-06</td>\n",
       "      <td>0.016435</td>\n",
       "      <td>-0.018263</td>\n",
       "      <td>...</td>\n",
       "      <td>-0.005562</td>\n",
       "      <td>0.008264</td>\n",
       "      <td>-0.002542</td>\n",
       "      <td>0.014016</td>\n",
       "      <td>0.001995</td>\n",
       "      <td>-0.001521</td>\n",
       "      <td>-0.009520</td>\n",
       "      <td>0.000202</td>\n",
       "      <td>-0.002278</td>\n",
       "      <td>-0.004925</td>\n",
       "    </tr>\n",
       "    <tr>\n",
       "      <th>1</th>\n",
       "      <td>14</td>\n",
       "      <td>71</td>\n",
       "      <td>1.000000</td>\n",
       "      <td>0.571429</td>\n",
       "      <td>0.014085</td>\n",
       "      <td>8.112629e-01</td>\n",
       "      <td>1.583722e-01</td>\n",
       "      <td>3.036484e-02</td>\n",
       "      <td>0.006266</td>\n",
       "      <td>-0.007741</td>\n",
       "      <td>...</td>\n",
       "      <td>-0.035802</td>\n",
       "      <td>0.006360</td>\n",
       "      <td>-0.007376</td>\n",
       "      <td>-0.030178</td>\n",
       "      <td>0.002564</td>\n",
       "      <td>-0.014688</td>\n",
       "      <td>0.008747</td>\n",
       "      <td>0.039815</td>\n",
       "      <td>-0.020141</td>\n",
       "      <td>0.003364</td>\n",
       "    </tr>\n",
       "    <tr>\n",
       "      <th>2</th>\n",
       "      <td>36</td>\n",
       "      <td>200</td>\n",
       "      <td>0.888889</td>\n",
       "      <td>0.472222</td>\n",
       "      <td>0.025000</td>\n",
       "      <td>9.999873e-01</td>\n",
       "      <td>1.267926e-05</td>\n",
       "      <td>1.882039e-08</td>\n",
       "      <td>0.015630</td>\n",
       "      <td>-0.020010</td>\n",
       "      <td>...</td>\n",
       "      <td>-0.009188</td>\n",
       "      <td>0.035607</td>\n",
       "      <td>0.014287</td>\n",
       "      <td>-0.000629</td>\n",
       "      <td>-0.011040</td>\n",
       "      <td>0.010444</td>\n",
       "      <td>0.006669</td>\n",
       "      <td>0.015396</td>\n",
       "      <td>0.011051</td>\n",
       "      <td>-0.004965</td>\n",
       "    </tr>\n",
       "    <tr>\n",
       "      <th>3</th>\n",
       "      <td>34</td>\n",
       "      <td>206</td>\n",
       "      <td>0.911765</td>\n",
       "      <td>0.382353</td>\n",
       "      <td>0.019417</td>\n",
       "      <td>7.761739e-10</td>\n",
       "      <td>6.212832e-10</td>\n",
       "      <td>1.000000e+00</td>\n",
       "      <td>0.015848</td>\n",
       "      <td>-0.021321</td>\n",
       "      <td>...</td>\n",
       "      <td>0.000212</td>\n",
       "      <td>-0.008549</td>\n",
       "      <td>0.002516</td>\n",
       "      <td>-0.005813</td>\n",
       "      <td>0.001378</td>\n",
       "      <td>0.006148</td>\n",
       "      <td>0.001463</td>\n",
       "      <td>0.002236</td>\n",
       "      <td>0.006745</td>\n",
       "      <td>0.004830</td>\n",
       "    </tr>\n",
       "    <tr>\n",
       "      <th>4</th>\n",
       "      <td>27</td>\n",
       "      <td>174</td>\n",
       "      <td>0.925926</td>\n",
       "      <td>0.407407</td>\n",
       "      <td>0.022989</td>\n",
       "      <td>8.629272e-01</td>\n",
       "      <td>1.337367e-01</td>\n",
       "      <td>3.336066e-03</td>\n",
       "      <td>0.006623</td>\n",
       "      <td>-0.009987</td>\n",
       "      <td>...</td>\n",
       "      <td>0.014072</td>\n",
       "      <td>0.005710</td>\n",
       "      <td>-0.003203</td>\n",
       "      <td>0.000462</td>\n",
       "      <td>0.001064</td>\n",
       "      <td>0.000209</td>\n",
       "      <td>-0.012035</td>\n",
       "      <td>0.009865</td>\n",
       "      <td>-0.000339</td>\n",
       "      <td>0.006922</td>\n",
       "    </tr>\n",
       "  </tbody>\n",
       "</table>\n",
       "<p>5 rows × 408 columns</p>\n",
       "</div>"
      ],
      "text/plain": [
       "   word_count  char_count  unique_word_fraction  stopwords_count  \\\n",
       "0          41         231              0.853659         0.487805   \n",
       "1          14          71              1.000000         0.571429   \n",
       "2          36         200              0.888889         0.472222   \n",
       "3          34         206              0.911765         0.382353   \n",
       "4          27         174              0.925926         0.407407   \n",
       "\n",
       "   punctuations_fraction   nb_cvec_eap   nb_cvec_hpl   nb_cvec_mws  \\\n",
       "0               0.030303  9.999894e-01  4.065931e-06  6.573423e-06   \n",
       "1               0.014085  8.112629e-01  1.583722e-01  3.036484e-02   \n",
       "2               0.025000  9.999873e-01  1.267926e-05  1.882039e-08   \n",
       "3               0.019417  7.761739e-10  6.212832e-10  1.000000e+00   \n",
       "4               0.022989  8.629272e-01  1.337367e-01  3.336066e-03   \n",
       "\n",
       "   svd_char_0  svd_char_1      ...       svd_char_390  svd_char_391  \\\n",
       "0    0.016435   -0.018263      ...          -0.005562      0.008264   \n",
       "1    0.006266   -0.007741      ...          -0.035802      0.006360   \n",
       "2    0.015630   -0.020010      ...          -0.009188      0.035607   \n",
       "3    0.015848   -0.021321      ...           0.000212     -0.008549   \n",
       "4    0.006623   -0.009987      ...           0.014072      0.005710   \n",
       "\n",
       "   svd_char_392  svd_char_393  svd_char_394  svd_char_395  svd_char_396  \\\n",
       "0     -0.002542      0.014016      0.001995     -0.001521     -0.009520   \n",
       "1     -0.007376     -0.030178      0.002564     -0.014688      0.008747   \n",
       "2      0.014287     -0.000629     -0.011040      0.010444      0.006669   \n",
       "3      0.002516     -0.005813      0.001378      0.006148      0.001463   \n",
       "4     -0.003203      0.000462      0.001064      0.000209     -0.012035   \n",
       "\n",
       "   svd_char_397  svd_char_398  svd_char_399  \n",
       "0      0.000202     -0.002278     -0.004925  \n",
       "1      0.039815     -0.020141      0.003364  \n",
       "2      0.015396      0.011051     -0.004965  \n",
       "3      0.002236      0.006745      0.004830  \n",
       "4      0.009865     -0.000339      0.006922  \n",
       "\n",
       "[5 rows x 408 columns]"
      ]
     },
     "execution_count": 30,
     "metadata": {},
     "output_type": "execute_result"
    }
   ],
   "source": [
    "author_mapping_dict = {'EAP': 0, 'HPL': 1, 'MWS': 2}\n",
    "y_train = train['author'].map(author_mapping_dict)\n",
    "\n",
    "drop_elements = ['id', 'text']\n",
    "x_train = train.drop(drop_elements + ['author'], axis=1)\n",
    "x_test = test.drop(drop_elements, axis=1)\n",
    "\n",
    "print(x_train.shape, x_test.shape)\n",
    "x_train.head()"
   ]
  },
  {
   "cell_type": "code",
   "execution_count": 31,
   "metadata": {
    "scrolled": false
   },
   "outputs": [
    {
     "name": "stdout",
     "output_type": "stream",
     "text": [
      "[0]\ttrain-mlogloss:1.02398\tvalid-mlogloss:1.0248\n",
      "Multiple eval metrics have been passed: 'valid-mlogloss' will be used for early stopping.\n",
      "\n",
      "Will train until valid-mlogloss hasn't improved in 50 rounds.\n",
      "[40]\ttrain-mlogloss:0.394755\tvalid-mlogloss:0.410981\n",
      "[80]\ttrain-mlogloss:0.351184\tvalid-mlogloss:0.386754\n",
      "[120]\ttrain-mlogloss:0.322229\tvalid-mlogloss:0.380563\n",
      "[160]\ttrain-mlogloss:0.298087\tvalid-mlogloss:0.378957\n",
      "[200]\ttrain-mlogloss:0.277681\tvalid-mlogloss:0.377584\n",
      "[240]\ttrain-mlogloss:0.258431\tvalid-mlogloss:0.377373\n",
      "[280]\ttrain-mlogloss:0.241424\tvalid-mlogloss:0.378394\n",
      "Stopping. Best iteration:\n",
      "[253]\ttrain-mlogloss:0.252692\tvalid-mlogloss:0.377157\n",
      "\n",
      "Modeling RMSLE 0.37716\n"
     ]
    }
   ],
   "source": [
    "from sklearn.model_selection import train_test_split\n",
    "xtr, xv, ytr, yv = train_test_split(\n",
    "    x_train.values, y_train, test_size=0.2, random_state=1987)\n",
    "dtrain = xgb.DMatrix(xtr, label=ytr)\n",
    "dvalid = xgb.DMatrix(xv, label=yv)\n",
    "dtest = xgb.DMatrix(x_test.values)\n",
    "watchlist = [(dtrain, 'train'), (dvalid, 'valid')]\n",
    "\n",
    "xgb_par = {\n",
    "    'min_child_weight': 1,\n",
    "    'eta': 0.1,\n",
    "    'colsample_bytree': 0.7,\n",
    "    'max_depth': 3,\n",
    "    'subsample': 0.8,\n",
    "    'lambda': 2.0,\n",
    "    'nthread': -1,\n",
    "    'silent': 1,\n",
    "    'eval_metric': \"mlogloss\",\n",
    "    'objective': 'multi:softprob',\n",
    "    'num_class': 3\n",
    "}\n",
    "\n",
    "model_1 = xgb.train(\n",
    "    xgb_par,\n",
    "    dtrain,\n",
    "    1000,\n",
    "    watchlist,\n",
    "    early_stopping_rounds=50,\n",
    "    maximize=False,\n",
    "    verbose_eval=40)\n",
    "print('Modeling RMSLE %.5f' % model_1.best_score)"
   ]
  },
  {
   "cell_type": "code",
   "execution_count": 32,
   "metadata": {
    "scrolled": false
   },
   "outputs": [
    {
     "name": "stdout",
     "output_type": "stream",
     "text": [
      "(19579, 408) (8392, 408)\n"
     ]
    }
   ],
   "source": [
    "print(x_train.shape, x_test.shape)"
   ]
  },
  {
   "cell_type": "code",
   "execution_count": 33,
   "metadata": {},
   "outputs": [],
   "source": [
    "yvalid = model_1.predict(dvalid)\n",
    "ytest = model_1.predict(dtest)"
   ]
  },
  {
   "cell_type": "code",
   "execution_count": 35,
   "metadata": {},
   "outputs": [
    {
     "name": "stdout",
     "output_type": "stream",
     "text": [
      "Test shape OK.\n"
     ]
    }
   ],
   "source": [
    "if test.shape[0] == ytest.shape[0]:\n",
    "    print('Test shape OK.') \n",
    "test_id = test['id'].values\n",
    "out_df = pd.DataFrame(ytest)\n",
    "out_df.columns = ['EAP', 'HPL', 'MWS']\n",
    "out_df.insert(0, 'id', test_id)\n",
    "out_df.to_csv(\"../result/submission-20171123-05.csv\", index=False)"
   ]
  }
 ],
 "metadata": {
  "kernelspec": {
   "display_name": "Python 3",
   "language": "python",
   "name": "python3"
  },
  "language_info": {
   "codemirror_mode": {
    "name": "ipython",
    "version": 3
   },
   "file_extension": ".py",
   "mimetype": "text/x-python",
   "name": "python",
   "nbconvert_exporter": "python",
   "pygments_lexer": "ipython3",
   "version": "3.6.2"
  },
  "toc": {
   "colors": {
    "hover_highlight": "#DAA520",
    "navigate_num": "#000000",
    "navigate_text": "#333333",
    "running_highlight": "#FF0000",
    "selected_highlight": "#FFD700",
    "sidebar_border": "#EEEEEE",
    "wrapper_background": "#FFFFFF"
   },
   "moveMenuLeft": true,
   "nav_menu": {
    "height": "12px",
    "width": "252px"
   },
   "navigate_menu": true,
   "number_sections": true,
   "sideBar": true,
   "threshold": 4,
   "toc_cell": false,
   "toc_position": {
    "height": "878px",
    "left": "0px",
    "right": "1521px",
    "top": "111px",
    "width": "421px"
   },
   "toc_section_display": "block",
   "toc_window_display": true,
   "widenNotebook": false
  },
  "varInspector": {
   "cols": {
    "lenName": 16,
    "lenType": 16,
    "lenVar": 40
   },
   "kernels_config": {
    "python": {
     "delete_cmd_postfix": "",
     "delete_cmd_prefix": "del ",
     "library": "var_list.py",
     "varRefreshCmd": "print(var_dic_list())"
    },
    "r": {
     "delete_cmd_postfix": ") ",
     "delete_cmd_prefix": "rm(",
     "library": "var_list.r",
     "varRefreshCmd": "cat(var_dic_list()) "
    }
   },
   "types_to_exclude": [
    "module",
    "function",
    "builtin_function_or_method",
    "instance",
    "_Feature"
   ],
   "window_display": false
  }
 },
 "nbformat": 4,
 "nbformat_minor": 2
}
